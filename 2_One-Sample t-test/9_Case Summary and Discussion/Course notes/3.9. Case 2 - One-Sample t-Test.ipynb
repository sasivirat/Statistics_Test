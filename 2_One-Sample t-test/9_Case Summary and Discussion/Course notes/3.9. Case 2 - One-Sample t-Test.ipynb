{
 "cells": [
  {
   "cell_type": "code",
   "execution_count": 1,
   "id": "bacda00e",
   "metadata": {},
   "outputs": [],
   "source": [
    "import pandas as pd\n",
    "import numpy as np\n",
    "import matplotlib.pyplot as plt\n",
    "import scipy.stats as stats\n",
    "import statsmodels.api as sm\n",
    "from scipy.stats import shapiro\n",
    "\n",
    "pd.options.display.float_format = \"{:.2f}\".format"
   ]
  },
  {
   "cell_type": "code",
   "execution_count": 2,
   "id": "4fac94ca",
   "metadata": {},
   "outputs": [],
   "source": [
    "df = pd.read_excel(\"3. Case 2 - One-sample t-test.xlsx\")"
   ]
  },
  {
   "cell_type": "code",
   "execution_count": 3,
   "id": "3c9cb540",
   "metadata": {},
   "outputs": [
    {
     "data": {
      "text/html": [
       "<div>\n",
       "<style scoped>\n",
       "    .dataframe tbody tr th:only-of-type {\n",
       "        vertical-align: middle;\n",
       "    }\n",
       "\n",
       "    .dataframe tbody tr th {\n",
       "        vertical-align: top;\n",
       "    }\n",
       "\n",
       "    .dataframe thead th {\n",
       "        text-align: right;\n",
       "    }\n",
       "</style>\n",
       "<table border=\"1\" class=\"dataframe\">\n",
       "  <thead>\n",
       "    <tr style=\"text-align: right;\">\n",
       "      <th></th>\n",
       "      <th>Product ID</th>\n",
       "      <th>Product Name</th>\n",
       "      <th>Price</th>\n",
       "      <th>Volume</th>\n",
       "      <th>Volume_in_liters</th>\n",
       "      <th>Price_per_EQ</th>\n",
       "    </tr>\n",
       "  </thead>\n",
       "  <tbody>\n",
       "    <tr>\n",
       "      <th>0</th>\n",
       "      <td>5113468</td>\n",
       "      <td>Apple Pulse</td>\n",
       "      <td>4.15</td>\n",
       "      <td>500</td>\n",
       "      <td>0.50</td>\n",
       "      <td>8.30</td>\n",
       "    </tr>\n",
       "    <tr>\n",
       "      <th>1</th>\n",
       "      <td>1906188</td>\n",
       "      <td>Banana Pulse</td>\n",
       "      <td>4.75</td>\n",
       "      <td>500</td>\n",
       "      <td>0.50</td>\n",
       "      <td>9.50</td>\n",
       "    </tr>\n",
       "    <tr>\n",
       "      <th>2</th>\n",
       "      <td>5709623</td>\n",
       "      <td>Banana Rumble</td>\n",
       "      <td>4.30</td>\n",
       "      <td>500</td>\n",
       "      <td>0.50</td>\n",
       "      <td>8.60</td>\n",
       "    </tr>\n",
       "    <tr>\n",
       "      <th>3</th>\n",
       "      <td>2642672</td>\n",
       "      <td>Berry Ride</td>\n",
       "      <td>4.55</td>\n",
       "      <td>500</td>\n",
       "      <td>0.50</td>\n",
       "      <td>9.10</td>\n",
       "    </tr>\n",
       "    <tr>\n",
       "      <th>4</th>\n",
       "      <td>1997170</td>\n",
       "      <td>Blackberry Sizzle</td>\n",
       "      <td>4.20</td>\n",
       "      <td>500</td>\n",
       "      <td>0.50</td>\n",
       "      <td>8.40</td>\n",
       "    </tr>\n",
       "  </tbody>\n",
       "</table>\n",
       "</div>"
      ],
      "text/plain": [
       "   Product ID       Product Name  Price  Volume  Volume_in_liters  \\\n",
       "0     5113468        Apple Pulse   4.15     500              0.50   \n",
       "1     1906188       Banana Pulse   4.75     500              0.50   \n",
       "2     5709623      Banana Rumble   4.30     500              0.50   \n",
       "3     2642672         Berry Ride   4.55     500              0.50   \n",
       "4     1997170  Blackberry Sizzle   4.20     500              0.50   \n",
       "\n",
       "   Price_per_EQ  \n",
       "0          8.30  \n",
       "1          9.50  \n",
       "2          8.60  \n",
       "3          9.10  \n",
       "4          8.40  "
      ]
     },
     "execution_count": 3,
     "metadata": {},
     "output_type": "execute_result"
    }
   ],
   "source": [
    "# Print data head\n",
    "df.head()"
   ]
  },
  {
   "cell_type": "code",
   "execution_count": 4,
   "id": "d949efcc",
   "metadata": {},
   "outputs": [
    {
     "data": {
      "text/plain": [
       "count   100.00\n",
       "mean      6.43\n",
       "std       1.37\n",
       "min       3.02\n",
       "25%       5.42\n",
       "50%       6.24\n",
       "75%       7.43\n",
       "max       9.50\n",
       "Name: Price_per_EQ, dtype: float64"
      ]
     },
     "execution_count": 4,
     "metadata": {},
     "output_type": "execute_result"
    }
   ],
   "source": [
    "# Descriptive statistics for the 'Price_per_EQ' variable\n",
    "df[\"Price_per_EQ\"].describe()"
   ]
  },
  {
   "cell_type": "markdown",
   "id": "7b5ccdd7",
   "metadata": {},
   "source": [
    "The sample mean (6.43) is greater than the population mean (6.21). But is this difference statistically significant?"
   ]
  },
  {
   "cell_type": "code",
   "execution_count": 5,
   "id": "af113801",
   "metadata": {},
   "outputs": [],
   "source": [
    "# Variable data to array\n",
    "data = df[\"Price_per_EQ\"].values"
   ]
  },
  {
   "cell_type": "code",
   "execution_count": 6,
   "id": "42f0263b",
   "metadata": {},
   "outputs": [
    {
     "data": {
      "image/png": "[encoded data removed]",
      "text/plain": [
       "<Figure size 1000x500 with 1 Axes>"
      ]
     },
     "metadata": {},
     "output_type": "display_data"
    }
   ],
   "source": [
    "# Plot the histogram\n",
    "plt.figure(figsize=(10,5))\n",
    "plt.hist(data, bins=25, density=True, alpha=0.6, color='b')\n",
    "\n",
    "# Add the line for the mean of the data\n",
    "plt.axvline(data.mean(), color='k', linestyle='solid', linewidth=2)\n",
    "\n",
    "# Add dashed line at 6.21 for industry average\n",
    "plt.axvline(6.21, color='k', linestyle='dashed', linewidth=2)\n",
    "\n",
    "# Label axis and add title\n",
    "plt.xlabel('PPV')\n",
    "plt.ylabel('Frequency')\n",
    "plt.title('Distribution of Sample Data')\n",
    "\n",
    "plt.show()"
   ]
  },
  {
   "cell_type": "code",
   "execution_count": 7,
   "id": "09bbc98d",
   "metadata": {},
   "outputs": [
    {
     "data": {
      "image/png": "[encoded data removed]",
      "text/plain": [
       "<Figure size 600x600 with 1 Axes>"
      ]
     },
     "metadata": {},
     "output_type": "display_data"
    }
   ],
   "source": [
    "# Create Q-Q plot for PPV\n",
    "fig, ax = plt.subplots(figsize=(6,6))\n",
    "sm.qqplot(data, line='s', ax=ax, fmt='b')\n",
    "\n",
    "# Set the chart title and axis labels\n",
    "ax.set_title(\"Q-Q plot\")\n",
    "\n",
    "# Display the chart\n",
    "plt.show()"
   ]
  },
  {
   "cell_type": "markdown",
   "id": "f3838fd8",
   "metadata": {},
   "source": [
    "The null and alternative hypotheses of this test are the following:\n",
    "- H0: µPPV = 6.21 (\"the mean PPV is equal to 6.21\")\n",
    "- H1: µPPV > 6.21  (\"the mean PPV is higher than 6.21\")\n",
    "\n",
    "Furthermore, let's set the significance level alpha at 0.05"
   ]
  },
  {
   "cell_type": "code",
   "execution_count": 8,
   "id": "0ad98910",
   "metadata": {},
   "outputs": [
    {
     "data": {
      "text/plain": [
       "TtestResult(statistic=1.5858764248796753, pvalue=0.05797822784307917, df=99)"
      ]
     },
     "execution_count": 8,
     "metadata": {},
     "output_type": "execute_result"
    }
   ],
   "source": [
    "# Perform one-sample t-test (one-tailed, higher)\n",
    "stats.ttest_1samp(a=data, popmean=6.21, alternative = \"greater\")"
   ]
  },
  {
   "cell_type": "markdown",
   "id": "1558e174",
   "metadata": {},
   "source": [
    "The p-value (0.0580) is greater than 0.05—meaning that we can’t reject the null hypothesis. Although the mean price per volume of the products in the sample (6.43) is slightly greater than the population mean (6.21), it is not *significantly* greater at the level of 0.05."
   ]
  },
  {
   "cell_type": "markdown",
   "id": "1b391ae4",
   "metadata": {},
   "source": [
    "Now let's re-do the test, this time with the opposite alternative hypothesis:\n",
    "    \n",
    "- H0: µPPV = 6.21  (\"the mean PPV is equal to 6.21\")\n",
    "- H1: µPPV < 6.21  (\"the mean PPV is lower than 6.21\")"
   ]
  },
  {
   "cell_type": "code",
   "execution_count": 9,
   "id": "6d76e3a1",
   "metadata": {},
   "outputs": [
    {
     "data": {
      "text/plain": [
       "TtestResult(statistic=1.5858764248796753, pvalue=0.9420217721569208, df=99)"
      ]
     },
     "execution_count": 9,
     "metadata": {},
     "output_type": "execute_result"
    }
   ],
   "source": [
    "# Re-run one-sample t-test with different alternative hypothesis (one-tailed, lower)\n",
    "stats.ttest_1samp(a=data, popmean=6.21, alternative = \"less\")"
   ]
  },
  {
   "cell_type": "markdown",
   "id": "6e97a3ca",
   "metadata": {},
   "source": [
    "In this case, the p-value (0.9420) is close to 1, much greater than 0.05. We cannot reject the null hypothesis and conclude that the mean price per volume of the sample products is not less than 6.21. "
   ]
  }
 ],
 "metadata": {
  "kernelspec": {
   "display_name": "base",
   "language": "python",
   "name": "python3"
  },
  "language_info": {
   "codemirror_mode": {
    "name": "ipython",
    "version": 3
   },
   "file_extension": ".py",
   "mimetype": "text/x-python",
   "name": "python",
   "nbconvert_exporter": "python",
   "pygments_lexer": "ipython3",
   "version": "3.11.7"
  }
 },
 "nbformat": 4,
 "nbformat_minor": 5
}
