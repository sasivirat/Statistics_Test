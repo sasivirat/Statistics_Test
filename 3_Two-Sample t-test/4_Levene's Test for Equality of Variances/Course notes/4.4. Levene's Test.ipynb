{
 "cells": [
  {
   "cell_type": "code",
   "execution_count": 1,
   "id": "73663541",
   "metadata": {},
   "outputs": [],
   "source": [
    "import pandas as pd\n",
    "import numpy as np\n",
    "from scipy import stats\n",
    "from scipy.stats import levene\n",
    "\n",
    "pd.options.display.float_format = \"{:.2f}\".format"
   ]
  },
  {
   "cell_type": "code",
   "execution_count": 2,
   "id": "d8e33e3b",
   "metadata": {},
   "outputs": [],
   "source": [
    "# Read case data\n",
    "df = pd.read_excel(\"4. Case 3 - Two-sample t-test.xlsx\")"
   ]
  },
  {
   "cell_type": "code",
   "execution_count": 3,
   "id": "4de1b3c8",
   "metadata": {},
   "outputs": [
    {
     "data": {
      "text/html": [
       "<div>\n",
       "<style scoped>\n",
       "    .dataframe tbody tr th:only-of-type {\n",
       "        vertical-align: middle;\n",
       "    }\n",
       "\n",
       "    .dataframe tbody tr th {\n",
       "        vertical-align: top;\n",
       "    }\n",
       "\n",
       "    .dataframe thead th {\n",
       "        text-align: right;\n",
       "    }\n",
       "</style>\n",
       "<table border=\"1\" class=\"dataframe\">\n",
       "  <thead>\n",
       "    <tr style=\"text-align: right;\">\n",
       "      <th></th>\n",
       "      <th>Store Id</th>\n",
       "      <th>Display Type</th>\n",
       "      <th>Sales Volume</th>\n",
       "    </tr>\n",
       "  </thead>\n",
       "  <tbody>\n",
       "    <tr>\n",
       "      <th>0</th>\n",
       "      <td>3846186</td>\n",
       "      <td>Old_display_type</td>\n",
       "      <td>2038.31</td>\n",
       "    </tr>\n",
       "    <tr>\n",
       "      <th>1</th>\n",
       "      <td>1083410</td>\n",
       "      <td>Old_display_type</td>\n",
       "      <td>2017.29</td>\n",
       "    </tr>\n",
       "    <tr>\n",
       "      <th>2</th>\n",
       "      <td>4278951</td>\n",
       "      <td>Old_display_type</td>\n",
       "      <td>1746.47</td>\n",
       "    </tr>\n",
       "    <tr>\n",
       "      <th>3</th>\n",
       "      <td>6670048</td>\n",
       "      <td>Old_display_type</td>\n",
       "      <td>2061.78</td>\n",
       "    </tr>\n",
       "    <tr>\n",
       "      <th>4</th>\n",
       "      <td>5054220</td>\n",
       "      <td>Old_display_type</td>\n",
       "      <td>2253.76</td>\n",
       "    </tr>\n",
       "  </tbody>\n",
       "</table>\n",
       "</div>"
      ],
      "text/plain": [
       "   Store Id      Display Type  Sales Volume\n",
       "0   3846186  Old_display_type       2038.31\n",
       "1   1083410  Old_display_type       2017.29\n",
       "2   4278951  Old_display_type       1746.47\n",
       "3   6670048  Old_display_type       2061.78\n",
       "4   5054220  Old_display_type       2253.76"
      ]
     },
     "execution_count": 3,
     "metadata": {},
     "output_type": "execute_result"
    }
   ],
   "source": [
    "df.head()"
   ]
  },
  {
   "cell_type": "code",
   "execution_count": 4,
   "id": "ef7316d8",
   "metadata": {},
   "outputs": [],
   "source": [
    "# Create arrays with units sold for 'Old_display_type' and 'New_display_type'\n",
    "data_o = df[df[\"Display Type\"] ==\"Old_display_type\"][\"Sales Volume\"].values\n",
    "data_n = df[df[\"Display Type\"] ==\"New_display_type\"][\"Sales Volume\"].values"
   ]
  },
  {
   "cell_type": "markdown",
   "id": "6ef49633",
   "metadata": {},
   "source": [
    "The **scipy.stats.levene()** function in SciPy conducts Levene's test to assess whether two or more groups have equal variances, an essential assumption in various statistical tests. \n",
    "\n",
    "The following is a breakdown of the main parameter and how to interpret the test.\n",
    "\n",
    "**Main Parameter**\n",
    "\n",
    "center: This parameter selects the measure of central tendency for the test. Available options are 'median,' 'mean,' and 'trimmed': \n",
    "\n",
    "* **median**: Ideal for skewed distributions, this setting reduces outlier influence, enhancing robustness in non-normal data. \n",
    "* **mean**: Suitable for symmetric, moderately tailed data, the mean is preferable when the distribution approximates normality. \n",
    "* **trimmed**: Perfect for heavy-tailed distributions, this choice trims the data to lessen the impact of extreme values.\n",
    "\n",
    "\n",
    "**Null Hypothesis (H0)**: There’s no significant difference in variances across the groups.\n",
    "\n",
    "If p-value > alpha: We do not reject H0, suggesting that the sample variances are roughly equal or not significantly different.\n",
    "\n",
    "If p-value < alpha: We reject H0, indicating significant differences in variances among the groups, implying that at least one group's variance is distinct.\n",
    "\n",
    "Additionally, you can calculate the variances of individual samples directly using the **.var()** method on DataFrame columns to get a preliminary sense of the data's dispersion before conducting Levene's test.\n",
    "\n",
    "For this analysis, we'll apply a significance level (alpha) of 0.05 to determine the statistical significance of our findings."
   ]
  },
  {
   "cell_type": "code",
   "execution_count": 5,
   "id": "3500278b",
   "metadata": {},
   "outputs": [
    {
     "name": "stdout",
     "output_type": "stream",
     "text": [
      "LeveneResult(statistic=0.402449870750646, pvalue=0.5273048920979523)\n"
     ]
    }
   ],
   "source": [
    "# Levene's test centered at the mean\n",
    "print(stats.levene(data_o, data_n, center='mean'))"
   ]
  },
  {
   "cell_type": "markdown",
   "id": "dcfd9ce6",
   "metadata": {},
   "source": [
    "The output indicates that the p-value is 0.5273, greater than 0.05. Based on this result, we do not reject the null hypothesis, suggesting that the variances of the two sales datasets are equal. \n",
    "\n",
    "This implies that the variances in sales volume between the old and new display types are not significantly different at the 0.05 significance level. Consequently, we can proceed with future statistical tests assuming equal variances."
   ]
  }
 ],
 "metadata": {
  "kernelspec": {
   "display_name": "base",
   "language": "python",
   "name": "python3"
  },
  "language_info": {
   "codemirror_mode": {
    "name": "ipython",
    "version": 3
   },
   "file_extension": ".py",
   "mimetype": "text/x-python",
   "name": "python",
   "nbconvert_exporter": "python",
   "pygments_lexer": "ipython3",
   "version": "3.11.7"
  }
 },
 "nbformat": 4,
 "nbformat_minor": 5
}
