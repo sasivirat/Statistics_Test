{
 "cells": [
  {
   "cell_type": "code",
   "execution_count": 1,
   "id": "06bbe456",
   "metadata": {},
   "outputs": [],
   "source": [
    "import pandas as pd\n",
    "pd.options.display.float_format = \"{:.2f}\".format"
   ]
  },
  {
   "cell_type": "code",
   "execution_count": 2,
   "id": "152ebe38",
   "metadata": {},
   "outputs": [],
   "source": [
    "df = pd.read_excel(\"3. Case 2 - One-sample t-test.xlsx\")"
   ]
  },
  {
   "cell_type": "code",
   "execution_count": 3,
   "id": "1bd65556",
   "metadata": {},
   "outputs": [
    {
     "data": {
      "text/html": [
       "<div>\n",
       "<style scoped>\n",
       "    .dataframe tbody tr th:only-of-type {\n",
       "        vertical-align: middle;\n",
       "    }\n",
       "\n",
       "    .dataframe tbody tr th {\n",
       "        vertical-align: top;\n",
       "    }\n",
       "\n",
       "    .dataframe thead th {\n",
       "        text-align: right;\n",
       "    }\n",
       "</style>\n",
       "<table border=\"1\" class=\"dataframe\">\n",
       "  <thead>\n",
       "    <tr style=\"text-align: right;\">\n",
       "      <th></th>\n",
       "      <th>Product ID</th>\n",
       "      <th>Product Name</th>\n",
       "      <th>Price</th>\n",
       "      <th>Volume</th>\n",
       "      <th>Volume_in_liters</th>\n",
       "      <th>Price_per_EQ</th>\n",
       "    </tr>\n",
       "  </thead>\n",
       "  <tbody>\n",
       "    <tr>\n",
       "      <th>0</th>\n",
       "      <td>5113468</td>\n",
       "      <td>Apple Pulse</td>\n",
       "      <td>4.15</td>\n",
       "      <td>500</td>\n",
       "      <td>0.50</td>\n",
       "      <td>8.30</td>\n",
       "    </tr>\n",
       "    <tr>\n",
       "      <th>1</th>\n",
       "      <td>1906188</td>\n",
       "      <td>Banana Pulse</td>\n",
       "      <td>4.75</td>\n",
       "      <td>500</td>\n",
       "      <td>0.50</td>\n",
       "      <td>9.50</td>\n",
       "    </tr>\n",
       "    <tr>\n",
       "      <th>2</th>\n",
       "      <td>5709623</td>\n",
       "      <td>Banana Rumble</td>\n",
       "      <td>4.30</td>\n",
       "      <td>500</td>\n",
       "      <td>0.50</td>\n",
       "      <td>8.60</td>\n",
       "    </tr>\n",
       "    <tr>\n",
       "      <th>3</th>\n",
       "      <td>2642672</td>\n",
       "      <td>Berry Ride</td>\n",
       "      <td>4.55</td>\n",
       "      <td>500</td>\n",
       "      <td>0.50</td>\n",
       "      <td>9.10</td>\n",
       "    </tr>\n",
       "    <tr>\n",
       "      <th>4</th>\n",
       "      <td>1997170</td>\n",
       "      <td>Blackberry Sizzle</td>\n",
       "      <td>4.20</td>\n",
       "      <td>500</td>\n",
       "      <td>0.50</td>\n",
       "      <td>8.40</td>\n",
       "    </tr>\n",
       "  </tbody>\n",
       "</table>\n",
       "</div>"
      ],
      "text/plain": [
       "   Product ID       Product Name  Price  Volume  Volume_in_liters  \\\n",
       "0     5113468        Apple Pulse   4.15     500              0.50   \n",
       "1     1906188       Banana Pulse   4.75     500              0.50   \n",
       "2     5709623      Banana Rumble   4.30     500              0.50   \n",
       "3     2642672         Berry Ride   4.55     500              0.50   \n",
       "4     1997170  Blackberry Sizzle   4.20     500              0.50   \n",
       "\n",
       "   Price_per_EQ  \n",
       "0          8.30  \n",
       "1          9.50  \n",
       "2          8.60  \n",
       "3          9.10  \n",
       "4          8.40  "
      ]
     },
     "execution_count": 3,
     "metadata": {},
     "output_type": "execute_result"
    }
   ],
   "source": [
    "df.head()"
   ]
  },
  {
   "cell_type": "markdown",
   "id": "3c31b9e6",
   "metadata": {},
   "source": [
    "The standard deviation is a critical statistical metric indicating the spread or dispersion within a data set. It quantifies how each data point deviates from the data's mean value. \n",
    "\n",
    "Since the standard deviation is derived from the square root of the variance (a positive value), it’s also always positive. A standard deviation of zero signifies no variation among the data points.\n",
    "\n",
    "An essential aspect of standard deviation is that it retains the units of the original data. For instance, if the data is in meters, the standard deviation will also be in meters—facilitating the comparison of variability across datasets with different units."
   ]
  },
  {
   "cell_type": "markdown",
   "id": "52de21c5",
   "metadata": {},
   "source": [
    "To compute the standard deviation, you can utilize the **.std()** method on a DataFrame or Series."
   ]
  },
  {
   "cell_type": "code",
   "execution_count": 4,
   "id": "e54bd570",
   "metadata": {},
   "outputs": [
    {
     "name": "stdout",
     "output_type": "stream",
     "text": [
      "1.37\n"
     ]
    }
   ],
   "source": [
    "# Calculate the standard deviation of the 'Price' variable in the 'df' dataframe\n",
    "std_price = df[\"Price_per_EQ\"].std()\n",
    "\n",
    "print(\"{:.2f}\".format(std_price))"
   ]
  },
  {
   "cell_type": "markdown",
   "id": "970fca9d",
   "metadata": {},
   "source": [
    "The standard deviation is also included in the descriptive statistics of pandas **.describe()** method. It’s denoted as 'std' in the output."
   ]
  },
  {
   "cell_type": "code",
   "execution_count": 5,
   "id": "1df4b718",
   "metadata": {},
   "outputs": [
    {
     "data": {
      "text/plain": [
       "count   100.00\n",
       "mean      6.43\n",
       "std       1.37\n",
       "min       3.02\n",
       "25%       5.42\n",
       "50%       6.24\n",
       "75%       7.43\n",
       "max       9.50\n",
       "Name: Price_per_EQ, dtype: float64"
      ]
     },
     "execution_count": 5,
     "metadata": {},
     "output_type": "execute_result"
    }
   ],
   "source": [
    "df[\"Price_per_EQ\"].describe()"
   ]
  }
 ],
 "metadata": {
  "kernelspec": {
   "display_name": "base",
   "language": "python",
   "name": "python3"
  },
  "language_info": {
   "codemirror_mode": {
    "name": "ipython",
    "version": 3
   },
   "file_extension": ".py",
   "mimetype": "text/x-python",
   "name": "python",
   "nbconvert_exporter": "python",
   "pygments_lexer": "ipython3",
   "version": "3.11.7"
  }
 },
 "nbformat": 4,
 "nbformat_minor": 5
}
