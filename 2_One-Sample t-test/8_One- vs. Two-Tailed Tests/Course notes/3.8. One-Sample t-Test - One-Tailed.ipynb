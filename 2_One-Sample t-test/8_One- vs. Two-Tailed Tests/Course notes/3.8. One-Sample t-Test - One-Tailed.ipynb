{
 "cells": [
  {
   "cell_type": "code",
   "execution_count": 1,
   "id": "33d0d056",
   "metadata": {},
   "outputs": [],
   "source": [
    "import pandas as pd\n",
    "import numpy as np\n",
    "import matplotlib.pyplot as plt\n",
    "import scipy.stats as stats\n",
    "from scipy.stats import shapiro\n",
    "\n",
    "pd.options.display.float_format = \"{:.2f}\".format"
   ]
  },
  {
   "cell_type": "code",
   "execution_count": 2,
   "id": "74e8b2df",
   "metadata": {},
   "outputs": [],
   "source": [
    "df = pd.read_excel(\"3. Case 2 - One-sample t-test.xlsx\")"
   ]
  },
  {
   "cell_type": "code",
   "execution_count": 3,
   "id": "2d6be7c8",
   "metadata": {},
   "outputs": [
    {
     "data": {
      "text/html": [
       "<div>\n",
       "<style scoped>\n",
       "    .dataframe tbody tr th:only-of-type {\n",
       "        vertical-align: middle;\n",
       "    }\n",
       "\n",
       "    .dataframe tbody tr th {\n",
       "        vertical-align: top;\n",
       "    }\n",
       "\n",
       "    .dataframe thead th {\n",
       "        text-align: right;\n",
       "    }\n",
       "</style>\n",
       "<table border=\"1\" class=\"dataframe\">\n",
       "  <thead>\n",
       "    <tr style=\"text-align: right;\">\n",
       "      <th></th>\n",
       "      <th>Product ID</th>\n",
       "      <th>Product Name</th>\n",
       "      <th>Price</th>\n",
       "      <th>Volume</th>\n",
       "      <th>Volume_in_liters</th>\n",
       "      <th>Price_per_EQ</th>\n",
       "    </tr>\n",
       "  </thead>\n",
       "  <tbody>\n",
       "    <tr>\n",
       "      <th>0</th>\n",
       "      <td>5113468</td>\n",
       "      <td>Apple Pulse</td>\n",
       "      <td>4.15</td>\n",
       "      <td>500</td>\n",
       "      <td>0.50</td>\n",
       "      <td>8.30</td>\n",
       "    </tr>\n",
       "    <tr>\n",
       "      <th>1</th>\n",
       "      <td>1906188</td>\n",
       "      <td>Banana Pulse</td>\n",
       "      <td>4.75</td>\n",
       "      <td>500</td>\n",
       "      <td>0.50</td>\n",
       "      <td>9.50</td>\n",
       "    </tr>\n",
       "    <tr>\n",
       "      <th>2</th>\n",
       "      <td>5709623</td>\n",
       "      <td>Banana Rumble</td>\n",
       "      <td>4.30</td>\n",
       "      <td>500</td>\n",
       "      <td>0.50</td>\n",
       "      <td>8.60</td>\n",
       "    </tr>\n",
       "    <tr>\n",
       "      <th>3</th>\n",
       "      <td>2642672</td>\n",
       "      <td>Berry Ride</td>\n",
       "      <td>4.55</td>\n",
       "      <td>500</td>\n",
       "      <td>0.50</td>\n",
       "      <td>9.10</td>\n",
       "    </tr>\n",
       "    <tr>\n",
       "      <th>4</th>\n",
       "      <td>1997170</td>\n",
       "      <td>Blackberry Sizzle</td>\n",
       "      <td>4.20</td>\n",
       "      <td>500</td>\n",
       "      <td>0.50</td>\n",
       "      <td>8.40</td>\n",
       "    </tr>\n",
       "  </tbody>\n",
       "</table>\n",
       "</div>"
      ],
      "text/plain": [
       "   Product ID       Product Name  Price  Volume  Volume_in_liters  \\\n",
       "0     5113468        Apple Pulse   4.15     500              0.50   \n",
       "1     1906188       Banana Pulse   4.75     500              0.50   \n",
       "2     5709623      Banana Rumble   4.30     500              0.50   \n",
       "3     2642672         Berry Ride   4.55     500              0.50   \n",
       "4     1997170  Blackberry Sizzle   4.20     500              0.50   \n",
       "\n",
       "   Price_per_EQ  \n",
       "0          8.30  \n",
       "1          9.50  \n",
       "2          8.60  \n",
       "3          9.10  \n",
       "4          8.40  "
      ]
     },
     "execution_count": 3,
     "metadata": {},
     "output_type": "execute_result"
    }
   ],
   "source": [
    "# Print data head\n",
    "df.head()"
   ]
  },
  {
   "cell_type": "code",
   "execution_count": 4,
   "id": "652fe519",
   "metadata": {},
   "outputs": [
    {
     "data": {
      "text/plain": [
       "count   100.00\n",
       "mean      6.43\n",
       "std       1.37\n",
       "min       3.02\n",
       "25%       5.42\n",
       "50%       6.24\n",
       "75%       7.43\n",
       "max       9.50\n",
       "Name: Price_per_EQ, dtype: float64"
      ]
     },
     "execution_count": 4,
     "metadata": {},
     "output_type": "execute_result"
    }
   ],
   "source": [
    "df[\"Price_per_EQ\"].describe()"
   ]
  },
  {
   "cell_type": "code",
   "execution_count": 5,
   "id": "6d366a83",
   "metadata": {},
   "outputs": [],
   "source": [
    "# Variable data to array\n",
    "data = df[\"Price_per_EQ\"].values"
   ]
  },
  {
   "cell_type": "markdown",
   "id": "9ae45aaa",
   "metadata": {},
   "source": [
    "The **scipy.stats.ttest_1samp()** function from SciPy conducts a one-sample t-test. This test is used to assess if there's a significant difference between the mean of a given sample and a known population mean. \n",
    "\n",
    "The main parameters of the function include:\n",
    "\n",
    "\n",
    "- **a**: This parameter represents the sample data as an array-like object (list, tuple, NumPy array, etc.). It’s the set of observations for which you want to perform the one-sample t-test. The sample should be a random sample from the population you want to compare it with.\n",
    "\n",
    "- **popmean**: This is the known or hypothesized population mean value against which the sample mean is evaluated. The t-test will assess whether there's a significant difference between the sample mean and this population mean.\n",
    "\n",
    "- **alternative**: This parameter specifies the type of alternative hypothesis to be tested. The default value is 'two-sided,' which means the test will check for a significant difference in either direction (whether the sample mean is greater or smaller than the population mean). \n",
    "\n",
    "Other options include 'greater' and 'less,' which test whether the sample mean is significantly greater or smaller than the population mean. As the alternative hypothesis was defined as \"The sample mean PPV is greater than the population mean (6.21),\" we must set this parameter to ‘greater.’\n",
    "\n",
    "Before running the test, set the significance level alpha to 0.05."
   ]
  },
  {
   "cell_type": "code",
   "execution_count": 6,
   "id": "9ee30178",
   "metadata": {},
   "outputs": [
    {
     "data": {
      "text/plain": [
       "TtestResult(statistic=1.5858764248796753, pvalue=0.05797822784307917, df=99)"
      ]
     },
     "execution_count": 6,
     "metadata": {},
     "output_type": "execute_result"
    }
   ],
   "source": [
    "# Perform one-sample t-test (one-tailed)\n",
    "stats.ttest_1samp(a=data, popmean=6.21, alternative = \"greater\")"
   ]
  },
  {
   "cell_type": "markdown",
   "id": "71991f43",
   "metadata": {},
   "source": [
    "The output contains two values: the t-statistic and the p-value.\n",
    "\n",
    "•\t**statistic (t-statistic)**: The t-statistic measures how far the sample mean is from the population mean relative to the sample’s standard error. A large absolute value of the t-statistic indicates that the sample mean is far from the population mean—suggesting that there may be a significant difference between the two.\n",
    "\n",
    "•\t**pvalue (p-value)**: The p-value measures the probability of observing a test statistic as extreme or more extreme than the one obtained, assuming that the null hypothesis (i.e., no difference between the sample mean and population mean) is true. \n",
    "A small p-value indicates that the observed difference between the sample mean and population mean is unlikely to have occurred by chance alone, and we reject the null hypothesis in favor of the alternative hypothesis.\n"
   ]
  },
  {
   "cell_type": "markdown",
   "id": "9d97bfba",
   "metadata": {},
   "source": [
    "The p-value (0.0580) indicates the likelihood of obtaining a t-statistic of 1.5859 or more under the assumption that the population mean is 6.21. Given that the p-value slightly exceeds the typical significance threshold of 0.05, it fails to offer substantial evidence to reject the null hypothesis. \n",
    "Consequently, with a significance level of 5%, there’s not enough evidence to reject the null hypothesis—leading us to conclude that the sample mean is not significantly different from the population mean of 6.21, as per the results of this one-sample t-test.\n",
    "In other words, since the p-value (0.0580) is greater than the alpha (0.05), we fail to reject the null hypothesis. We conclude that the mean price per volume of the products in the sample (6.43), although slightly greater than the population mean (6.21), is not *significantly* greater than this population mean at 0.05."
   ]
  },
  {
   "cell_type": "markdown",
   "id": "054e5e00",
   "metadata": {},
   "source": [
    "Next, let's revisit the t-test, evaluating our initial alternative hypothesis (\"The sample mean PPV differs from the population mean (6.21)\"). We'll do this by setting the 'alternative' parameter to 'two-sided.'"
   ]
  },
  {
   "cell_type": "code",
   "execution_count": 7,
   "id": "5273ed06",
   "metadata": {},
   "outputs": [
    {
     "data": {
      "text/plain": [
       "TtestResult(statistic=1.5858764248796753, pvalue=0.11595645568615834, df=99)"
      ]
     },
     "execution_count": 7,
     "metadata": {},
     "output_type": "execute_result"
    }
   ],
   "source": [
    "# Re-run one-sample t-test with different alternative hypothesis (two-tailed)  \n",
    "stats.ttest_1samp(a=data, popmean=6.21, alternative = \"two-sided\")"
   ]
  },
  {
   "cell_type": "markdown",
   "id": "2affb318",
   "metadata": {},
   "source": [
    "Since the p-value (0.1160) exceeds the alpha (0.05), we fail to reject the null hypothesis. Accordingly, the mean price per volume of the products in the sample (6.43) is not different from the population mean at the significance level of 0.05."
   ]
  },
  {
   "cell_type": "markdown",
   "id": "7e098513",
   "metadata": {},
   "source": [
    "We may argue that the conclusions drawn from both tests are the same. Indeed, both tests indicate that the sample mean is statistically equal to the population mean.\n",
    "But this is true only if the significance level is set to 0.05. If we select a significance level of 0.10, our conclusions could potentially differ.\n",
    "\n",
    "Indeed, the two-sided test (p=0.1160) would allow us to accept the null hypothesis and conclude that the sample mean equals the population mean. But the one-sided test (p=0.0580) would provide enough evidence to claim that the sample mean exceeds the population mean. Based on these results, we could make a completely different business decision.\n",
    "\n",
    "This highlights the critical importance of choosing an appropriate p-value in statistical testing. It's crucial to carefully consider this value before conducting your analysis and remain consistent with it post-analysis. \n",
    "Adjusting the alpha value to fit desired outcomes after viewing test results—a practice known as ‘p-hacking’—is unethical and undermines research integrity.\n",
    "\n",
    "Furthermore, the choice between a one-sided and two-sided test should be driven by the specific research question or hypothesis being tested. The one-sided test is more specific in its claim, while the two-sided test is broader."
   ]
  }
 ],
 "metadata": {
  "kernelspec": {
   "display_name": "base",
   "language": "python",
   "name": "python3"
  },
  "language_info": {
   "codemirror_mode": {
    "name": "ipython",
    "version": 3
   },
   "file_extension": ".py",
   "mimetype": "text/x-python",
   "name": "python",
   "nbconvert_exporter": "python",
   "pygments_lexer": "ipython3",
   "version": "3.11.7"
  }
 },
 "nbformat": 4,
 "nbformat_minor": 5
}
