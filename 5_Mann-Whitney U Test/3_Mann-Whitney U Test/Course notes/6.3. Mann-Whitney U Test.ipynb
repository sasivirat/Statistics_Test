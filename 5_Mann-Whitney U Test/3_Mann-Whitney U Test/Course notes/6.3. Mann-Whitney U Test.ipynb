{
 "cells": [
  {
   "cell_type": "code",
   "execution_count": 1,
   "id": "f462ec2d",
   "metadata": {},
   "outputs": [],
   "source": [
    "import pandas as pd\n",
    "import numpy as np\n",
    "import matplotlib.pyplot as plt\n",
    "import scipy.stats as stats\n",
    "from scipy.stats import shapiro\n",
    "import statsmodels.api as sm\n",
    "from scipy.stats import mannwhitneyu"
   ]
  },
  {
   "cell_type": "code",
   "execution_count": 2,
   "id": "b3e34939",
   "metadata": {},
   "outputs": [],
   "source": [
    "# Read case data\n",
    "df = pd.read_excel(\"6. Case 5 - Mann-Whitney U test.xlsx\")"
   ]
  },
  {
   "cell_type": "code",
   "execution_count": 3,
   "id": "c6d27283",
   "metadata": {},
   "outputs": [
    {
     "data": {
      "text/html": [
       "<div>\n",
       "<style scoped>\n",
       "    .dataframe tbody tr th:only-of-type {\n",
       "        vertical-align: middle;\n",
       "    }\n",
       "\n",
       "    .dataframe tbody tr th {\n",
       "        vertical-align: top;\n",
       "    }\n",
       "\n",
       "    .dataframe thead th {\n",
       "        text-align: right;\n",
       "    }\n",
       "</style>\n",
       "<table border=\"1\" class=\"dataframe\">\n",
       "  <thead>\n",
       "    <tr style=\"text-align: right;\">\n",
       "      <th></th>\n",
       "      <th>SalesPerson</th>\n",
       "      <th>New_Inc</th>\n",
       "      <th>Units_Sold</th>\n",
       "    </tr>\n",
       "  </thead>\n",
       "  <tbody>\n",
       "    <tr>\n",
       "      <th>0</th>\n",
       "      <td>1</td>\n",
       "      <td>Incentive</td>\n",
       "      <td>27</td>\n",
       "    </tr>\n",
       "    <tr>\n",
       "      <th>1</th>\n",
       "      <td>2</td>\n",
       "      <td>Incentive</td>\n",
       "      <td>23</td>\n",
       "    </tr>\n",
       "    <tr>\n",
       "      <th>2</th>\n",
       "      <td>3</td>\n",
       "      <td>Incentive</td>\n",
       "      <td>23</td>\n",
       "    </tr>\n",
       "    <tr>\n",
       "      <th>3</th>\n",
       "      <td>4</td>\n",
       "      <td>Incentive</td>\n",
       "      <td>23</td>\n",
       "    </tr>\n",
       "    <tr>\n",
       "      <th>4</th>\n",
       "      <td>5</td>\n",
       "      <td>Incentive</td>\n",
       "      <td>25</td>\n",
       "    </tr>\n",
       "  </tbody>\n",
       "</table>\n",
       "</div>"
      ],
      "text/plain": [
       "   SalesPerson    New_Inc  Units_Sold\n",
       "0            1  Incentive          27\n",
       "1            2  Incentive          23\n",
       "2            3  Incentive          23\n",
       "3            4  Incentive          23\n",
       "4            5  Incentive          25"
      ]
     },
     "execution_count": 3,
     "metadata": {},
     "output_type": "execute_result"
    }
   ],
   "source": [
    "# Print data head\n",
    "df.head()"
   ]
  },
  {
   "cell_type": "code",
   "execution_count": 4,
   "id": "b597ea26",
   "metadata": {},
   "outputs": [],
   "source": [
    "# Create arrays with units sold for 'incentive' and 'no incentive'\n",
    "data_incentive = df[df[\"New_Inc\"] ==\"Incentive\"][\"Units_Sold\"].values\n",
    "data_no_incentive = df[df[\"New_Inc\"] ==\"No Incentive\"][\"Units_Sold\"].values"
   ]
  },
  {
   "cell_type": "code",
   "execution_count": 5,
   "id": "bfc78030",
   "metadata": {},
   "outputs": [
    {
     "name": "stdout",
     "output_type": "stream",
     "text": [
      "Median incentive: 26.5\n",
      "Median no incentive: 23.0\n"
     ]
    }
   ],
   "source": [
    "# Median units sold for 'incentive' and 'no incentive'\n",
    "print(\"Median incentive: \" + str(np.median(data_incentive)))\n",
    "print(\"Median no incentive: \" + str(np.median(data_no_incentive)))"
   ]
  },
  {
   "cell_type": "markdown",
   "id": "a8365ab0",
   "metadata": {},
   "source": [
    "The median number of units sold is higher for sales reps who receive the new incentive (26.5) than for sales reps do no receive it (23.0). But is this difference of 3.5 units statistically significant? The Mann-Whitney can help us answer this question."
   ]
  },
  {
   "cell_type": "markdown",
   "id": "d0e88111",
   "metadata": {},
   "source": [
    "Since we are interested in the difference between the median units sold by the sales reps in the experimental and control groups, the null and alternative hypotheses can be formulated as follows:\n",
    "- H0: Median (Units_Sold_Incentive) - Median (Units_Sold_NoIncentive) = 0 (\"the median sales of the group of salespeople who did receive the incentive is equal to the median sales of the group of those who did not receive the incentive\")\n",
    "\n",
    "Furthermore, as the purpose of the test is to prove that the incentive program leads to a higher sales performance in terms of units sold, we can express the alternative hypothesis as:\n",
    "- H1: Median (Units_Sold_Incentive) - Median (Units_Sold_NoIncentive) > 0 (\"the median sales of the group of salespeople who did receive the incentive is greater than the median sales of the group of those who did not receive the incentive\")"
   ]
  },
  {
   "cell_type": "markdown",
   "id": "a6b7e22a",
   "metadata": {},
   "source": [
    "The **scipy.stats.mannwhitneyu()** function in SciPy performs the Mann-Whitney U test, a non-parametric statistical test designed to determine whether there is a significant difference between two independent samples. This test is particularly useful when the samples do not originate from populations that follow a normal distribution.\n",
    "\n",
    "The main parameters of the **mannwhitneyu()** function include:\n",
    "\n",
    "1. **a, b**: These arrays contain the sample data for comparison. Each array should contain the observations from one of the two independent samples.\n",
    "\n",
    "2. **equal_var**: This parameter indicates whether the two input samples have equal variances. The default value is **True**, which assumes that the samples have equal variances. If set to **False**, the test will assume that the samples have unequal variances.\n",
    "\n",
    "3. **alternative**: This parameter specifies the alternative hypothesis for the test. Options include:\n",
    "\n",
    "    - **'two-sided'**: Tests if the two distributions are not equal (default). In this case, we're only interested in knowing if there's a difference between the two samples, regardless of the direction.\n",
    "    - **'less'**: Tests if the distribution underlying a is stochastically less than the distribution underlying b. This means that F(u) > G(u) for all u, where F and G are the cumulative distribution functions of the samples a and b, respectively.\n",
    "    - **'greater'**: Tests if the distribution underlying a is stochastically greater than the distribution underlying b. This means that F(u) < G(u) for all u, where F and G are the cumulative distribution functions of the samples a and b, respectively.\n",
    "    \n",
    "4. **method**: This parameter selects the method used to calculate the p-value. The available options are:\n",
    "\n",
    "    - **'asymptotic'**: Compares the standardized test statistic against the normal distribution, correcting for ties. This method is suitable when the data has ties (i.e., identical values in the sample).\n",
    "    - **'exact'**: Computes the exact p-value by comparing the observed U statistic against the exact distribution of the U statistic under the null hypothesis. No correction is made for ties. This method is appropriate for small sample sizes without ties.\n",
    "    - **'auto'**: Automatically chooses the appropriate method based on the sample size and presence of ties. It selects 'exact' when one of the samples has fewer than eight observations and there are no ties; otherwise, it chooses 'asymptotic'."
   ]
  },
  {
   "cell_type": "markdown",
   "id": "06692101",
   "metadata": {},
   "source": [
    "Based on how the alternative hypothesis was formulated, we set **alternative='greater'**.\n",
    "\n",
    "Then, since we are uncertain about which method to use, we specify the parameter **method='auto'**. This allows the function to automatically select the most appropriate method.\n",
    "\n",
    "Furthermore, we set the significance level alpha to 0.05."
   ]
  },
  {
   "cell_type": "code",
   "execution_count": 6,
   "id": "79624894",
   "metadata": {},
   "outputs": [
    {
     "data": {
      "text/plain": [
       "MannwhitneyuResult(statistic=145.0, pvalue=0.039888694711853884)"
      ]
     },
     "execution_count": 6,
     "metadata": {},
     "output_type": "execute_result"
    }
   ],
   "source": [
    "# Perform the Mann-Whitney U test\n",
    "mannwhitneyu(data_incentive, data_no_incentive, alternative='greater', method='auto')"
   ]
  },
  {
   "cell_type": "markdown",
   "id": "64cfc769",
   "metadata": {},
   "source": [
    "Since the p-value obtained from the Mann-Whitney U test (0.03989) is less than the alpha threshold (0.05), we can reject the null hypothesis in favor of the alternative. This establishes that the team members who received the new incentive sold more products (average of 26.5) compared to those who did not (average of 23.0). The difference of 3.5 units is statistically significant at the 0.05 level."
   ]
  }
 ],
 "metadata": {
  "kernelspec": {
   "display_name": "base",
   "language": "python",
   "name": "python3"
  },
  "language_info": {
   "codemirror_mode": {
    "name": "ipython",
    "version": 3
   },
   "file_extension": ".py",
   "mimetype": "text/x-python",
   "name": "python",
   "nbconvert_exporter": "python",
   "pygments_lexer": "ipython3",
   "version": "3.11.7"
  }
 },
 "nbformat": 4,
 "nbformat_minor": 5
}
