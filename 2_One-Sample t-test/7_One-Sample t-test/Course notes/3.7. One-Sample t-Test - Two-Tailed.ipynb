{
 "cells": [
  {
   "cell_type": "code",
   "execution_count": 1,
   "id": "50288d83",
   "metadata": {},
   "outputs": [],
   "source": [
    "import pandas as pd\n",
    "import numpy as np\n",
    "import matplotlib.pyplot as plt\n",
    "import scipy.stats as stats\n",
    "from scipy.stats import shapiro\n",
    "\n",
    "pd.options.display.float_format = \"{:.2f}\".format"
   ]
  },
  {
   "cell_type": "code",
   "execution_count": 2,
   "id": "b0b3b66c",
   "metadata": {},
   "outputs": [],
   "source": [
    "df = pd.read_excel(\"3. Case 2 - One-sample t-test.xlsx\")"
   ]
  },
  {
   "cell_type": "code",
   "execution_count": 3,
   "id": "b7bd7203",
   "metadata": {},
   "outputs": [
    {
     "data": {
      "text/html": [
       "<div>\n",
       "<style scoped>\n",
       "    .dataframe tbody tr th:only-of-type {\n",
       "        vertical-align: middle;\n",
       "    }\n",
       "\n",
       "    .dataframe tbody tr th {\n",
       "        vertical-align: top;\n",
       "    }\n",
       "\n",
       "    .dataframe thead th {\n",
       "        text-align: right;\n",
       "    }\n",
       "</style>\n",
       "<table border=\"1\" class=\"dataframe\">\n",
       "  <thead>\n",
       "    <tr style=\"text-align: right;\">\n",
       "      <th></th>\n",
       "      <th>Product ID</th>\n",
       "      <th>Product Name</th>\n",
       "      <th>Price</th>\n",
       "      <th>Volume</th>\n",
       "      <th>Volume_in_liters</th>\n",
       "      <th>Price_per_EQ</th>\n",
       "    </tr>\n",
       "  </thead>\n",
       "  <tbody>\n",
       "    <tr>\n",
       "      <th>0</th>\n",
       "      <td>5113468</td>\n",
       "      <td>Apple Pulse</td>\n",
       "      <td>4.15</td>\n",
       "      <td>500</td>\n",
       "      <td>0.50</td>\n",
       "      <td>8.30</td>\n",
       "    </tr>\n",
       "    <tr>\n",
       "      <th>1</th>\n",
       "      <td>1906188</td>\n",
       "      <td>Banana Pulse</td>\n",
       "      <td>4.75</td>\n",
       "      <td>500</td>\n",
       "      <td>0.50</td>\n",
       "      <td>9.50</td>\n",
       "    </tr>\n",
       "    <tr>\n",
       "      <th>2</th>\n",
       "      <td>5709623</td>\n",
       "      <td>Banana Rumble</td>\n",
       "      <td>4.30</td>\n",
       "      <td>500</td>\n",
       "      <td>0.50</td>\n",
       "      <td>8.60</td>\n",
       "    </tr>\n",
       "    <tr>\n",
       "      <th>3</th>\n",
       "      <td>2642672</td>\n",
       "      <td>Berry Ride</td>\n",
       "      <td>4.55</td>\n",
       "      <td>500</td>\n",
       "      <td>0.50</td>\n",
       "      <td>9.10</td>\n",
       "    </tr>\n",
       "    <tr>\n",
       "      <th>4</th>\n",
       "      <td>1997170</td>\n",
       "      <td>Blackberry Sizzle</td>\n",
       "      <td>4.20</td>\n",
       "      <td>500</td>\n",
       "      <td>0.50</td>\n",
       "      <td>8.40</td>\n",
       "    </tr>\n",
       "  </tbody>\n",
       "</table>\n",
       "</div>"
      ],
      "text/plain": [
       "   Product ID       Product Name  Price  Volume  Volume_in_liters  \\\n",
       "0     5113468        Apple Pulse   4.15     500              0.50   \n",
       "1     1906188       Banana Pulse   4.75     500              0.50   \n",
       "2     5709623      Banana Rumble   4.30     500              0.50   \n",
       "3     2642672         Berry Ride   4.55     500              0.50   \n",
       "4     1997170  Blackberry Sizzle   4.20     500              0.50   \n",
       "\n",
       "   Price_per_EQ  \n",
       "0          8.30  \n",
       "1          9.50  \n",
       "2          8.60  \n",
       "3          9.10  \n",
       "4          8.40  "
      ]
     },
     "execution_count": 3,
     "metadata": {},
     "output_type": "execute_result"
    }
   ],
   "source": [
    "# Print data head\n",
    "df.head()"
   ]
  },
  {
   "cell_type": "code",
   "execution_count": 4,
   "id": "4b3f5ede",
   "metadata": {},
   "outputs": [
    {
     "data": {
      "text/plain": [
       "count   100.00\n",
       "mean      6.43\n",
       "std       1.37\n",
       "min       3.02\n",
       "25%       5.42\n",
       "50%       6.24\n",
       "75%       7.43\n",
       "max       9.50\n",
       "Name: Price_per_EQ, dtype: float64"
      ]
     },
     "execution_count": 4,
     "metadata": {},
     "output_type": "execute_result"
    }
   ],
   "source": [
    "df[\"Price_per_EQ\"].describe()"
   ]
  },
  {
   "cell_type": "code",
   "execution_count": 5,
   "id": "2e3ee005",
   "metadata": {},
   "outputs": [],
   "source": [
    "# Variable data to array\n",
    "data = df[\"Price_per_EQ\"].values"
   ]
  },
  {
   "cell_type": "markdown",
   "id": "a1824f62",
   "metadata": {},
   "source": [
    "The scipy.stats.ttest_1samp() function from SciPy is utilized to execute a one-sample t-test. This test is designed to assess if the mean of a given sample significantly deviates from a known population mean. The main parameters of the function include:\n",
    "\n",
    "- **a**: This parameter represents the sample data as an array-like object (list, tuple, NumPy array, etc.). It’s the set of observations for which you want to perform the one-sample t-test. The data should be a random sample from the population for comparison.\n",
    "\n",
    "- **popmean**: This is the known or hypothesized population mean value against which the sample's mean is evaluated. The t-test determines if there is a significant discrepancy between the sample's mean and this population mean.\n",
    "\n",
    "- **alternative**: This parameter specifies the type of alternative hypothesis to be tested. The default value is 'two-sided,' which means the test will check for a significant difference in either direction—whether the sample mean is greater or smaller than the population mean. \n",
    "\n",
    "Other options include 'greater' and 'less,' which test whether the sample mean is significantly greater or smaller than the population mean. We defined the alternative hypothesis: \"The sample mean PPV is different from the population mean (6.21).\" We can, therefore, omit the parameter or set it to ‘two-sided.’\n",
    "\n",
    "Before running the test, set the significance level alpha to 0.05."
   ]
  },
  {
   "cell_type": "code",
   "execution_count": 6,
   "id": "620825ce",
   "metadata": {},
   "outputs": [
    {
     "data": {
      "text/plain": [
       "TtestResult(statistic=1.5858764248796753, pvalue=0.11595645568615834, df=99)"
      ]
     },
     "execution_count": 6,
     "metadata": {},
     "output_type": "execute_result"
    }
   ],
   "source": [
    "# Perform one-sample t-test\n",
    "stats.ttest_1samp(a=data, popmean=6.21, alternative = \"two-sided\")"
   ]
  },
  {
   "cell_type": "markdown",
   "id": "116e7e73",
   "metadata": {},
   "source": [
    "The output contains two values: the t-statistic and the p-value. \n",
    "\n",
    "•\t**statistic (t-statistic)**: The t-statistic measures how far the sample mean is from the population mean relative to the standard error of the sample. A considerable absolute value of the t-statistic indicates that the sample mean is far from the population mean—suggesting that there may be a significant difference between the two.\n",
    "\n",
    "•\t**pvalue (p-value)**: The p-value measures the probability of observing a test statistic as extreme or more extreme than the one obtained, assuming that the null hypothesis—i.e., no difference between the sample mean and population mean—is true. A small p-value indicates that the observed difference between the sample mean and population mean is unlikely to have occurred by chance alone. Therefore, we can reject the null hypothesis in favor of the alternative hypothesis."
   ]
  },
  {
   "cell_type": "markdown",
   "id": "6c6d2d7c",
   "metadata": {},
   "source": [
    "The p-value of 0.1160 represents the probability of observing a t-statistic as extreme as 1.5859 (or its negative counterpart), assuming that the population mean is 6.21. Since the p-value is above the significance level of 0.05, it doesn’t provide strong evidence against the null hypothesis.\n",
    "\n",
    "Therefore, based on this one-sample t-test and at a 0.05 significance level, we do not have enough evidence to reject the null hypothesis. We cannot conclude that the data sample mean significantly differs from the population mean of 6.21.\n",
    "\n",
    "In other words, since the p-value (0.1160) is greater than the alpha (0.05), we fail to reject the null hypothesis. Furthermore, we conclude that the mean price per volume of the products in the sample (6.43)—although slightly greater than this population mean (6.21)—is not *significantly* different from the population mean at 0.05.\n",
    "\n",
    "Notice that for the one-sample t-test, the formula to determine degrees of freedom is as follows:"
   ]
  },
  {
   "cell_type": "markdown",
   "id": "5a228d9b",
   "metadata": {},
   "source": [
    "Notice that for the one-sample t-test, the formula to determine degrees of freedom is: \n",
    "\n",
    "Df = N-1\n",
    "\n",
    "where:\n",
    "- Df = degrees of freedom\n",
    "- N = sample size\n",
    "\n",
    "Therefore, in this case, Df = 99"
   ]
  }
 ],
 "metadata": {
  "kernelspec": {
   "display_name": "base",
   "language": "python",
   "name": "python3"
  },
  "language_info": {
   "codemirror_mode": {
    "name": "ipython",
    "version": 3
   },
   "file_extension": ".py",
   "mimetype": "text/x-python",
   "name": "python",
   "nbconvert_exporter": "python",
   "pygments_lexer": "ipython3",
   "version": "3.11.7"
  }
 },
 "nbformat": 4,
 "nbformat_minor": 5
}
