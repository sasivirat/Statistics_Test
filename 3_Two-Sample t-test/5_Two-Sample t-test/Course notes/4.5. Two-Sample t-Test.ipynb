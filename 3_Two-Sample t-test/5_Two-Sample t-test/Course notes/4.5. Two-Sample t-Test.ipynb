{
 "cells": [
  {
   "cell_type": "code",
   "execution_count": 1,
   "id": "cb5b808f",
   "metadata": {},
   "outputs": [],
   "source": [
    "import pandas as pd\n",
    "import numpy as np\n",
    "import scipy.stats as stats\n",
    "\n",
    "pd.options.display.float_format = \"{:.2f}\".format"
   ]
  },
  {
   "cell_type": "code",
   "execution_count": 2,
   "id": "df1bc4a2",
   "metadata": {},
   "outputs": [],
   "source": [
    "# Read case data\n",
    "df = pd.read_excel(\"4. Case 3 - Two-sample t-test.xlsx\")"
   ]
  },
  {
   "cell_type": "code",
   "execution_count": 3,
   "id": "a1a68366",
   "metadata": {},
   "outputs": [
    {
     "data": {
      "text/html": [
       "<div>\n",
       "<style scoped>\n",
       "    .dataframe tbody tr th:only-of-type {\n",
       "        vertical-align: middle;\n",
       "    }\n",
       "\n",
       "    .dataframe tbody tr th {\n",
       "        vertical-align: top;\n",
       "    }\n",
       "\n",
       "    .dataframe thead th {\n",
       "        text-align: right;\n",
       "    }\n",
       "</style>\n",
       "<table border=\"1\" class=\"dataframe\">\n",
       "  <thead>\n",
       "    <tr style=\"text-align: right;\">\n",
       "      <th></th>\n",
       "      <th>Store Id</th>\n",
       "      <th>Display Type</th>\n",
       "      <th>Sales Volume</th>\n",
       "    </tr>\n",
       "  </thead>\n",
       "  <tbody>\n",
       "    <tr>\n",
       "      <th>0</th>\n",
       "      <td>3846186</td>\n",
       "      <td>Old_display_type</td>\n",
       "      <td>2038.31</td>\n",
       "    </tr>\n",
       "    <tr>\n",
       "      <th>1</th>\n",
       "      <td>1083410</td>\n",
       "      <td>Old_display_type</td>\n",
       "      <td>2017.29</td>\n",
       "    </tr>\n",
       "    <tr>\n",
       "      <th>2</th>\n",
       "      <td>4278951</td>\n",
       "      <td>Old_display_type</td>\n",
       "      <td>1746.47</td>\n",
       "    </tr>\n",
       "    <tr>\n",
       "      <th>3</th>\n",
       "      <td>6670048</td>\n",
       "      <td>Old_display_type</td>\n",
       "      <td>2061.78</td>\n",
       "    </tr>\n",
       "    <tr>\n",
       "      <th>4</th>\n",
       "      <td>5054220</td>\n",
       "      <td>Old_display_type</td>\n",
       "      <td>2253.76</td>\n",
       "    </tr>\n",
       "  </tbody>\n",
       "</table>\n",
       "</div>"
      ],
      "text/plain": [
       "   Store Id      Display Type  Sales Volume\n",
       "0   3846186  Old_display_type       2038.31\n",
       "1   1083410  Old_display_type       2017.29\n",
       "2   4278951  Old_display_type       1746.47\n",
       "3   6670048  Old_display_type       2061.78\n",
       "4   5054220  Old_display_type       2253.76"
      ]
     },
     "execution_count": 3,
     "metadata": {},
     "output_type": "execute_result"
    }
   ],
   "source": [
    "df.head()"
   ]
  },
  {
   "cell_type": "code",
   "execution_count": 4,
   "id": "e348d0c2",
   "metadata": {},
   "outputs": [],
   "source": [
    "# Create arrays with units sold for 'Old_display_type' and 'New_display_type'\n",
    "data_o = df[df[\"Display Type\"] ==\"Old_display_type\"][\"Sales Volume\"].values\n",
    "data_n = df[df[\"Display Type\"] ==\"New_display_type\"][\"Sales Volume\"].values"
   ]
  },
  {
   "cell_type": "code",
   "execution_count": 5,
   "id": "dafc3d53",
   "metadata": {},
   "outputs": [
    {
     "name": "stdout",
     "output_type": "stream",
     "text": [
      "Mean Old: 2002.4714000000001\n",
      "Mean New: 2099.6049999999996\n"
     ]
    }
   ],
   "source": [
    "# Mean sales for old and new display types\n",
    "print(\"Mean Old: \" + str(np.mean(data_o)))\n",
    "print(\"Mean New: \" + str(np.mean(data_n)))"
   ]
  },
  {
   "cell_type": "markdown",
   "id": "45ffb62f",
   "metadata": {},
   "source": [
    "The sales volume with the new display (2099.60) is higher than that of the old display type (2002.47). But is this difference statistically significant? We aim to answer this question with a statistical test."
   ]
  },
  {
   "cell_type": "markdown",
   "id": "f7bb403d",
   "metadata": {},
   "source": [
    "Before proceeding with the test, let's clearly define our null and alternative hypotheses:\n",
    "\n",
    "- H0: µ(Sales_VolNew) - µ(Sales_VolOld) = 0\n",
    "- H1: µ(Sales_VolNew) - µ(Sales_VolOld) > 0\n",
    "\n",
    "Additionally, we'll set the significance level, alpha, to 0.05."
   ]
  },
  {
   "cell_type": "markdown",
   "id": "0405f45a",
   "metadata": {},
   "source": [
    "The two-sample t-test (independent t-test) compares the means of two independent samples to determine if there's a significant difference between them. In Python, we use the **scipy.stats.ttest_ind function()** to perform this test.\n",
    "\n",
    "The following is a breakdown of the main parameters for the **scipy.stats.ttest_ind()** function.\n",
    "\n",
    "1.\t **a, b**: These are the two input arrays that contain the sample data for comparison. 'a' represents the first sample, and 'b' represents the second.\n",
    "2.\t**equal_var (default = True)**: This parameter specifies whether the variances of the two samples are considered equal. When True, the test uses a pooled estimate of variance. If False, it uses separate variance estimates for each sample, known as Welch's t-test.\n",
    "3.\t**alternative**: This parameter defines the alternative hypothesis with the following options: \n",
    "*\t'two-sided': Indicates the means of the two distributions are unequal (default)\n",
    "*\t'less': The mean of the first sample (a) is less than that of the second sample (b).\n",
    "*\t'greater': The mean of the first sample (a) is greater than that of the second sample (b).\n",
    "\n",
    "In our case, we choose 'greater' to align with our alternative hypothesis that the mean sales volume for the new display is greater than that for the old display. \n",
    "\n",
    "Since we've established that the sales volume variances for both displays are equal, we'll set **equal_var=True**."
   ]
  },
  {
   "cell_type": "code",
   "execution_count": 6,
   "id": "c9099de4",
   "metadata": {},
   "outputs": [
    {
     "data": {
      "text/plain": [
       "TtestResult(statistic=1.7693132318181242, pvalue=0.039976188061622175, df=98.0)"
      ]
     },
     "execution_count": 6,
     "metadata": {},
     "output_type": "execute_result"
    }
   ],
   "source": [
    "# Run the two-sample t-test\n",
    "stats.ttest_ind(data_n, data_o, equal_var=True, alternative = \"greater\")"
   ]
  },
  {
   "cell_type": "markdown",
   "id": "89d8e33a",
   "metadata": {},
   "source": [
    "As the p-value (0.0400) is below the significance level of 0.05, we can reject the null hypothesis supporting the alternative.\n",
    "\n",
    "The sales volume with the new display is higher than that of the old display type (2099.60 vs. 2002.47), but we've also established that this difference is statistically significant."
   ]
  },
  {
   "cell_type": "markdown",
   "id": "7ee4dc8a",
   "metadata": {},
   "source": [
    "For the two-sample t-test, the formula to determine degrees of freedom is:\n",
    "\n",
    "df = N1 + N2 – 2.\n",
    "\n",
    "where:\n",
    "- df = degrees of freedom\n",
    "- N1 = sample size of the first group\n",
    "- N2 = sample size of the first group\n",
    "\n",
    "Therefore, in this case, df = 98"
   ]
  }
 ],
 "metadata": {
  "kernelspec": {
   "display_name": "base",
   "language": "python",
   "name": "python3"
  },
  "language_info": {
   "codemirror_mode": {
    "name": "ipython",
    "version": 3
   },
   "file_extension": ".py",
   "mimetype": "text/x-python",
   "name": "python",
   "nbconvert_exporter": "python",
   "pygments_lexer": "ipython3",
   "version": "3.11.7"
  }
 },
 "nbformat": 4,
 "nbformat_minor": 5
}
