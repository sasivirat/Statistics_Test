{
 "cells": [
  {
   "cell_type": "code",
   "execution_count": 1,
   "id": "d2f921d6",
   "metadata": {},
   "outputs": [],
   "source": [
    "import pandas as pd\n",
    "import numpy as np\n",
    "from scipy.stats import skewnorm\n",
    "from matplotlib import pyplot as plt"
   ]
  },
  {
   "cell_type": "code",
   "execution_count": 2,
   "id": "dc5e9110",
   "metadata": {},
   "outputs": [],
   "source": [
    "df = pd.read_excel(\"3. Case 2 - One-sample t-test.xlsx\")"
   ]
  },
  {
   "cell_type": "code",
   "execution_count": 3,
   "id": "d41e906b",
   "metadata": {},
   "outputs": [
    {
     "data": {
      "text/html": [
       "<div>\n",
       "<style scoped>\n",
       "    .dataframe tbody tr th:only-of-type {\n",
       "        vertical-align: middle;\n",
       "    }\n",
       "\n",
       "    .dataframe tbody tr th {\n",
       "        vertical-align: top;\n",
       "    }\n",
       "\n",
       "    .dataframe thead th {\n",
       "        text-align: right;\n",
       "    }\n",
       "</style>\n",
       "<table border=\"1\" class=\"dataframe\">\n",
       "  <thead>\n",
       "    <tr style=\"text-align: right;\">\n",
       "      <th></th>\n",
       "      <th>Product ID</th>\n",
       "      <th>Product Name</th>\n",
       "      <th>Price</th>\n",
       "      <th>Volume</th>\n",
       "      <th>Volume_in_liters</th>\n",
       "      <th>Price_per_EQ</th>\n",
       "    </tr>\n",
       "  </thead>\n",
       "  <tbody>\n",
       "    <tr>\n",
       "      <th>0</th>\n",
       "      <td>5113468</td>\n",
       "      <td>Apple Pulse</td>\n",
       "      <td>4.15</td>\n",
       "      <td>500</td>\n",
       "      <td>0.5</td>\n",
       "      <td>8.3</td>\n",
       "    </tr>\n",
       "    <tr>\n",
       "      <th>1</th>\n",
       "      <td>1906188</td>\n",
       "      <td>Banana Pulse</td>\n",
       "      <td>4.75</td>\n",
       "      <td>500</td>\n",
       "      <td>0.5</td>\n",
       "      <td>9.5</td>\n",
       "    </tr>\n",
       "    <tr>\n",
       "      <th>2</th>\n",
       "      <td>5709623</td>\n",
       "      <td>Banana Rumble</td>\n",
       "      <td>4.30</td>\n",
       "      <td>500</td>\n",
       "      <td>0.5</td>\n",
       "      <td>8.6</td>\n",
       "    </tr>\n",
       "    <tr>\n",
       "      <th>3</th>\n",
       "      <td>2642672</td>\n",
       "      <td>Berry Ride</td>\n",
       "      <td>4.55</td>\n",
       "      <td>500</td>\n",
       "      <td>0.5</td>\n",
       "      <td>9.1</td>\n",
       "    </tr>\n",
       "    <tr>\n",
       "      <th>4</th>\n",
       "      <td>1997170</td>\n",
       "      <td>Blackberry Sizzle</td>\n",
       "      <td>4.20</td>\n",
       "      <td>500</td>\n",
       "      <td>0.5</td>\n",
       "      <td>8.4</td>\n",
       "    </tr>\n",
       "  </tbody>\n",
       "</table>\n",
       "</div>"
      ],
      "text/plain": [
       "   Product ID       Product Name  Price  Volume  Volume_in_liters  \\\n",
       "0     5113468        Apple Pulse   4.15     500               0.5   \n",
       "1     1906188       Banana Pulse   4.75     500               0.5   \n",
       "2     5709623      Banana Rumble   4.30     500               0.5   \n",
       "3     2642672         Berry Ride   4.55     500               0.5   \n",
       "4     1997170  Blackberry Sizzle   4.20     500               0.5   \n",
       "\n",
       "   Price_per_EQ  \n",
       "0           8.3  \n",
       "1           9.5  \n",
       "2           8.6  \n",
       "3           9.1  \n",
       "4           8.4  "
      ]
     },
     "execution_count": 3,
     "metadata": {},
     "output_type": "execute_result"
    }
   ],
   "source": [
    "df.head()"
   ]
  },
  {
   "cell_type": "code",
   "execution_count": 4,
   "id": "5e293c04",
   "metadata": {},
   "outputs": [
    {
     "data": {
      "image/png": "[encoded data removed]",
      "text/plain": [
       "<Figure size 1000x500 with 1 Axes>"
      ]
     },
     "metadata": {},
     "output_type": "display_data"
    }
   ],
   "source": [
    "# Plot a histogram of the 'Price_per_EQ' variable\n",
    "\n",
    "# Set the figure size\n",
    "plt.figure(figsize=(10, 5))\n",
    "\n",
    "# Plot the histogram with 30 bins\n",
    "df[\"Price_per_EQ\"].hist(bins=30)\n",
    "\n",
    "# Add a title to the plot\n",
    "plt.title('Price_per_EQ')\n",
    "\n",
    "# Add the yaxis label\n",
    "plt.ylabel(\"Euros\")\n",
    "\n",
    "# Show the plot\n",
    "plt.show()"
   ]
  },
  {
   "cell_type": "markdown",
   "id": "f48fe88a",
   "metadata": {},
   "source": [
    "Based on the bell-shape appearance of the histogram, the variable seems to be normally distributed."
   ]
  }
 ],
 "metadata": {
  "kernelspec": {
   "display_name": "base",
   "language": "python",
   "name": "python3"
  },
  "language_info": {
   "codemirror_mode": {
    "name": "ipython",
    "version": 3
   },
   "file_extension": ".py",
   "mimetype": "text/x-python",
   "name": "python",
   "nbconvert_exporter": "python",
   "pygments_lexer": "ipython3",
   "version": "3.11.7"
  }
 },
 "nbformat": 4,
 "nbformat_minor": 5
}
