{
 "cells": [
  {
   "cell_type": "code",
   "execution_count": 1,
   "id": "60d8a8b0",
   "metadata": {},
   "outputs": [],
   "source": [
    "import pandas as pd\n",
    "pd.options.display.float_format = \"{:.2f}\".format"
   ]
  },
  {
   "cell_type": "code",
   "execution_count": 2,
   "id": "e79b77db",
   "metadata": {},
   "outputs": [],
   "source": [
    "df = pd.read_excel(\"3. Case 2 - One-sample t-test.xlsx\")"
   ]
  },
  {
   "cell_type": "code",
   "execution_count": 3,
   "id": "3d823707",
   "metadata": {},
   "outputs": [
    {
     "data": {
      "text/html": [
       "<div>\n",
       "<style scoped>\n",
       "    .dataframe tbody tr th:only-of-type {\n",
       "        vertical-align: middle;\n",
       "    }\n",
       "\n",
       "    .dataframe tbody tr th {\n",
       "        vertical-align: top;\n",
       "    }\n",
       "\n",
       "    .dataframe thead th {\n",
       "        text-align: right;\n",
       "    }\n",
       "</style>\n",
       "<table border=\"1\" class=\"dataframe\">\n",
       "  <thead>\n",
       "    <tr style=\"text-align: right;\">\n",
       "      <th></th>\n",
       "      <th>Product ID</th>\n",
       "      <th>Product Name</th>\n",
       "      <th>Price</th>\n",
       "      <th>Volume</th>\n",
       "      <th>Volume_in_liters</th>\n",
       "      <th>Price_per_EQ</th>\n",
       "    </tr>\n",
       "  </thead>\n",
       "  <tbody>\n",
       "    <tr>\n",
       "      <th>0</th>\n",
       "      <td>5113468</td>\n",
       "      <td>Apple Pulse</td>\n",
       "      <td>4.15</td>\n",
       "      <td>500</td>\n",
       "      <td>0.50</td>\n",
       "      <td>8.30</td>\n",
       "    </tr>\n",
       "    <tr>\n",
       "      <th>1</th>\n",
       "      <td>1906188</td>\n",
       "      <td>Banana Pulse</td>\n",
       "      <td>4.75</td>\n",
       "      <td>500</td>\n",
       "      <td>0.50</td>\n",
       "      <td>9.50</td>\n",
       "    </tr>\n",
       "    <tr>\n",
       "      <th>2</th>\n",
       "      <td>5709623</td>\n",
       "      <td>Banana Rumble</td>\n",
       "      <td>4.30</td>\n",
       "      <td>500</td>\n",
       "      <td>0.50</td>\n",
       "      <td>8.60</td>\n",
       "    </tr>\n",
       "    <tr>\n",
       "      <th>3</th>\n",
       "      <td>2642672</td>\n",
       "      <td>Berry Ride</td>\n",
       "      <td>4.55</td>\n",
       "      <td>500</td>\n",
       "      <td>0.50</td>\n",
       "      <td>9.10</td>\n",
       "    </tr>\n",
       "    <tr>\n",
       "      <th>4</th>\n",
       "      <td>1997170</td>\n",
       "      <td>Blackberry Sizzle</td>\n",
       "      <td>4.20</td>\n",
       "      <td>500</td>\n",
       "      <td>0.50</td>\n",
       "      <td>8.40</td>\n",
       "    </tr>\n",
       "  </tbody>\n",
       "</table>\n",
       "</div>"
      ],
      "text/plain": [
       "   Product ID       Product Name  Price  Volume  Volume_in_liters  \\\n",
       "0     5113468        Apple Pulse   4.15     500              0.50   \n",
       "1     1906188       Banana Pulse   4.75     500              0.50   \n",
       "2     5709623      Banana Rumble   4.30     500              0.50   \n",
       "3     2642672         Berry Ride   4.55     500              0.50   \n",
       "4     1997170  Blackberry Sizzle   4.20     500              0.50   \n",
       "\n",
       "   Price_per_EQ  \n",
       "0          8.30  \n",
       "1          9.50  \n",
       "2          8.60  \n",
       "3          9.10  \n",
       "4          8.40  "
      ]
     },
     "execution_count": 3,
     "metadata": {},
     "output_type": "execute_result"
    }
   ],
   "source": [
    "df.head()"
   ]
  },
  {
   "cell_type": "markdown",
   "id": "470fabd9",
   "metadata": {},
   "source": [
    "The mean represents the average value in a dataset, determined by adding all the values and dividing by the number of those values. Extreme values or outliers within the dataset can influence the mean, potentially distorting the result."
   ]
  },
  {
   "cell_type": "markdown",
   "id": "a04f8a74",
   "metadata": {},
   "source": [
    "The mean is calculated by using the **.mean()** method."
   ]
  },
  {
   "cell_type": "code",
   "execution_count": 4,
   "id": "1fdc3b61",
   "metadata": {},
   "outputs": [
    {
     "name": "stdout",
     "output_type": "stream",
     "text": [
      "6.43\n"
     ]
    }
   ],
   "source": [
    "# Calculate the mean value of the 'Price_per_EQ' variable in the 'df' dataframe\n",
    "mean_price = df[\"Price_per_EQ\"].mean()\n",
    "\n",
    "print(\"{:.2f}\".format(mean_price))"
   ]
  },
  {
   "cell_type": "markdown",
   "id": "baa078fd",
   "metadata": {},
   "source": [
    "Any missing values are ignored during these calculations. One should also be careful when the data set has many zero values—which might represent missing values in some cases—as they can significantly affect the mean."
   ]
  },
  {
   "cell_type": "markdown",
   "id": "964d2604",
   "metadata": {},
   "source": [
    "The median is a central tendency metric that splits a dataset into two equal parts. It's the value in the middle when the data points are arranged in ascending or descending order. In a dataset, 50% of the values are below the median, and 50% are above it. \n",
    " <br>Unlike the mean, the median is unaffected by extreme values or outliers, making it a more stable measure of central tendency."
   ]
  },
  {
   "cell_type": "markdown",
   "id": "5b57b0f5",
   "metadata": {},
   "source": [
    "The median is calculated by using the **.median()** method."
   ]
  },
  {
   "cell_type": "code",
   "execution_count": 5,
   "id": "38fbefd5",
   "metadata": {},
   "outputs": [
    {
     "name": "stdout",
     "output_type": "stream",
     "text": [
      "6.24\n"
     ]
    }
   ],
   "source": [
    "# Calculate the median value of the 'Price_per_EQ' variable in the 'df' dataframe\n",
    "median_price = df[\"Price_per_EQ\"].median()\n",
    "\n",
    "print(\"{:.2f}\".format(median_price))"
   ]
  },
  {
   "cell_type": "markdown",
   "id": "2afa5f2c",
   "metadata": {},
   "source": [
    "These values and the descriptive statistics can also be derived directly using the pandas **.describe()** method."
   ]
  },
  {
   "cell_type": "code",
   "execution_count": 6,
   "id": "85c37387",
   "metadata": {},
   "outputs": [
    {
     "data": {
      "text/plain": [
       "count   100.00\n",
       "mean      6.43\n",
       "std       1.37\n",
       "min       3.02\n",
       "25%       5.42\n",
       "50%       6.24\n",
       "75%       7.43\n",
       "max       9.50\n",
       "Name: Price_per_EQ, dtype: float64"
      ]
     },
     "execution_count": 6,
     "metadata": {},
     "output_type": "execute_result"
    }
   ],
   "source": [
    "df[\"Price_per_EQ\"].describe()"
   ]
  },
  {
   "cell_type": "markdown",
   "id": "162d988c",
   "metadata": {},
   "source": [
    "The median corresponds to the value indicated next to '50%' in the above output."
   ]
  }
 ],
 "metadata": {
  "kernelspec": {
   "display_name": "base",
   "language": "python",
   "name": "python3"
  },
  "language_info": {
   "codemirror_mode": {
    "name": "ipython",
    "version": 3
   },
   "file_extension": ".py",
   "mimetype": "text/x-python",
   "name": "python",
   "nbconvert_exporter": "python",
   "pygments_lexer": "ipython3",
   "version": "3.11.7"
  }
 },
 "nbformat": 4,
 "nbformat_minor": 5
}
