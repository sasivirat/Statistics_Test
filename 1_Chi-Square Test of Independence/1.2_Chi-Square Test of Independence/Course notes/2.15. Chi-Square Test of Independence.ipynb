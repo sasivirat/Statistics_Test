{
 "cells": [
  {
   "cell_type": "code",
   "execution_count": 3,
   "id": "708b183b",
   "metadata": {},
   "outputs": [],
   "source": [
    "import pandas as pd\n",
    "import numpy as np\n",
    "import matplotlib.pyplot as plt\n",
    "from scipy.stats import chi2_contingency"
   ]
  },
  {
   "cell_type": "code",
   "execution_count": 4,
   "id": "88ccfd76",
   "metadata": {},
   "outputs": [],
   "source": [
    "df = pd.read_excel(\"2. Case 1 - Chi-square test of independence.xlsx\")"
   ]
  },
  {
   "cell_type": "code",
   "execution_count": 5,
   "id": "57a762a0",
   "metadata": {},
   "outputs": [
    {
     "data": {
      "text/html": [
       "<div>\n",
       "<style scoped>\n",
       "    .dataframe tbody tr th:only-of-type {\n",
       "        vertical-align: middle;\n",
       "    }\n",
       "\n",
       "    .dataframe tbody tr th {\n",
       "        vertical-align: top;\n",
       "    }\n",
       "\n",
       "    .dataframe thead th {\n",
       "        text-align: right;\n",
       "    }\n",
       "</style>\n",
       "<table border=\"1\" class=\"dataframe\">\n",
       "  <thead>\n",
       "    <tr style=\"text-align: right;\">\n",
       "      <th></th>\n",
       "      <th>Respondent</th>\n",
       "      <th>Uniqueness</th>\n",
       "      <th>Purchase Likelihood</th>\n",
       "    </tr>\n",
       "  </thead>\n",
       "  <tbody>\n",
       "    <tr>\n",
       "      <th>0</th>\n",
       "      <td>1</td>\n",
       "      <td>Extremely unique</td>\n",
       "      <td>Extremely likely</td>\n",
       "    </tr>\n",
       "    <tr>\n",
       "      <th>1</th>\n",
       "      <td>2</td>\n",
       "      <td>Extremely unique</td>\n",
       "      <td>Extremely likely</td>\n",
       "    </tr>\n",
       "    <tr>\n",
       "      <th>2</th>\n",
       "      <td>3</td>\n",
       "      <td>Extremely unique</td>\n",
       "      <td>Extremely likely</td>\n",
       "    </tr>\n",
       "    <tr>\n",
       "      <th>3</th>\n",
       "      <td>4</td>\n",
       "      <td>Extremely unique</td>\n",
       "      <td>Extremely likely</td>\n",
       "    </tr>\n",
       "    <tr>\n",
       "      <th>4</th>\n",
       "      <td>5</td>\n",
       "      <td>Extremely unique</td>\n",
       "      <td>Extremely likely</td>\n",
       "    </tr>\n",
       "  </tbody>\n",
       "</table>\n",
       "</div>"
      ],
      "text/plain": [
       "   Respondent        Uniqueness Purchase Likelihood\n",
       "0           1  Extremely unique    Extremely likely\n",
       "1           2  Extremely unique    Extremely likely\n",
       "2           3  Extremely unique    Extremely likely\n",
       "3           4  Extremely unique    Extremely likely\n",
       "4           5  Extremely unique    Extremely likely"
      ]
     },
     "execution_count": 5,
     "metadata": {},
     "output_type": "execute_result"
    }
   ],
   "source": [
    "# Print data head\n",
    "df.head()"
   ]
  },
  {
   "cell_type": "code",
   "execution_count": 6,
   "id": "8a531e2e",
   "metadata": {},
   "outputs": [
    {
     "data": {
      "text/html": [
       "<div>\n",
       "<style scoped>\n",
       "    .dataframe tbody tr th:only-of-type {\n",
       "        vertical-align: middle;\n",
       "    }\n",
       "\n",
       "    .dataframe tbody tr th {\n",
       "        vertical-align: top;\n",
       "    }\n",
       "\n",
       "    .dataframe thead th {\n",
       "        text-align: right;\n",
       "    }\n",
       "</style>\n",
       "<table border=\"1\" class=\"dataframe\">\n",
       "  <thead>\n",
       "    <tr style=\"text-align: right;\">\n",
       "      <th>Purchase Likelihood</th>\n",
       "      <th>Extremely likely</th>\n",
       "      <th>Not at all likely</th>\n",
       "      <th>Not so likely</th>\n",
       "      <th>Somewhat likely</th>\n",
       "      <th>Very likely</th>\n",
       "    </tr>\n",
       "    <tr>\n",
       "      <th>Uniqueness</th>\n",
       "      <th></th>\n",
       "      <th></th>\n",
       "      <th></th>\n",
       "      <th></th>\n",
       "      <th></th>\n",
       "    </tr>\n",
       "  </thead>\n",
       "  <tbody>\n",
       "    <tr>\n",
       "      <th>Extremely unique</th>\n",
       "      <td>12</td>\n",
       "      <td>10</td>\n",
       "      <td>10</td>\n",
       "      <td>13</td>\n",
       "      <td>25</td>\n",
       "    </tr>\n",
       "    <tr>\n",
       "      <th>Not at all unique</th>\n",
       "      <td>5</td>\n",
       "      <td>11</td>\n",
       "      <td>5</td>\n",
       "      <td>4</td>\n",
       "      <td>8</td>\n",
       "    </tr>\n",
       "    <tr>\n",
       "      <th>Not so unique</th>\n",
       "      <td>7</td>\n",
       "      <td>9</td>\n",
       "      <td>10</td>\n",
       "      <td>8</td>\n",
       "      <td>16</td>\n",
       "    </tr>\n",
       "    <tr>\n",
       "      <th>Somewhat unique</th>\n",
       "      <td>15</td>\n",
       "      <td>16</td>\n",
       "      <td>15</td>\n",
       "      <td>16</td>\n",
       "      <td>28</td>\n",
       "    </tr>\n",
       "    <tr>\n",
       "      <th>Very unique</th>\n",
       "      <td>52</td>\n",
       "      <td>30</td>\n",
       "      <td>30</td>\n",
       "      <td>64</td>\n",
       "      <td>104</td>\n",
       "    </tr>\n",
       "  </tbody>\n",
       "</table>\n",
       "</div>"
      ],
      "text/plain": [
       "Purchase Likelihood  Extremely likely  Not at all likely  Not so likely  \\\n",
       "Uniqueness                                                                \n",
       "Extremely unique                   12                 10             10   \n",
       "Not at all unique                   5                 11              5   \n",
       "Not so unique                       7                  9             10   \n",
       "Somewhat unique                    15                 16             15   \n",
       "Very unique                        52                 30             30   \n",
       "\n",
       "Purchase Likelihood  Somewhat likely  Very likely  \n",
       "Uniqueness                                         \n",
       "Extremely unique                  13           25  \n",
       "Not at all unique                  4            8  \n",
       "Not so unique                      8           16  \n",
       "Somewhat unique                   16           28  \n",
       "Very unique                       64          104  "
      ]
     },
     "execution_count": 6,
     "metadata": {},
     "output_type": "execute_result"
    }
   ],
   "source": [
    "# The Pandas crosstab function can be used to produce the contingency table from the raw data of responses\n",
    "df_crosstab = pd.crosstab(df[\"Uniqueness\"],df[\"Purchase Likelihood\"])\n",
    "df_crosstab"
   ]
  },
  {
   "cell_type": "markdown",
   "id": "75eb4ccd",
   "metadata": {},
   "source": [
    "The **chi2_contingency()** function is part of the **scipy.stats** module used to test the independence between categorical variables in a contingency table. It calculates the chi-square test statistic, p-value, degrees of freedom, and expected frequencies.\n",
    "\n",
    "Key parameters of the **chi2_contingency()** function include: \n",
    "1.\t observed: This is a 2D array or table of observed frequencies known as a contingency table, with each row and column representing different variable categories.\n",
    "2.\t correction: This boolean indicates if Yates' continuity correction should be applied to 2x2 tables for more accurate small-sample chi-square statistics; it defaults to True.\n",
    "3.\t lambda_: This variable name specifies the test statistic type as either a string or float; the default is None for calculating Pearson's chi-squared statistic. Other options include:\n",
    "<br>•\t'cressie-read'\n",
    "<br>•\t'log-likelihood'\n",
    "<br>•\t'freeman-tukey'\n",
    "<br>•\t'mod-log-likelihood'\n",
    "<br>•\t'neyman'\n",
    "<br>•\t'power-divergence'\n",
    "\n",
    "<br>You can also provide a custom float value for the Cressie-Read power divergence."
   ]
  },
  {
   "cell_type": "markdown",
   "id": "6b5b1111",
   "metadata": {},
   "source": [
    "For the following test, the null and alternative hypotheses can be formulated as:\n",
    "- H0: Uniqueness is not associated with 'Purchase intent'\n",
    "- H1: Uniqueness is associated with 'Purchase intent'\n",
    "    \n",
    "The significance level alpha is set to 0.05.\n",
    "\n",
    "We're now ready to conduct the Chi-squared test of independence."
   ]
  },
  {
   "cell_type": "code",
   "execution_count": 7,
   "id": "fd0b1104",
   "metadata": {},
   "outputs": [],
   "source": [
    "# Store the output of the test function into variables\n",
    "stat, p, dof, expected = chi2_contingency(df_crosstab, correction=False)"
   ]
  },
  {
   "cell_type": "code",
   "execution_count": 8,
   "id": "b4c0f54f",
   "metadata": {},
   "outputs": [
    {
     "name": "stdout",
     "output_type": "stream",
     "text": [
      "chi2: 21.388569942634078\n",
      "p: 0.1640533250506747\n",
      "df: 16\n",
      "expected: [[12.17973231 10.17208413  9.36902486 14.05353728 24.22562141]\n",
      " [ 5.7418738   4.79541109  4.416826    6.62523901 11.4206501 ]\n",
      " [ 8.6998088   7.26577438  6.69216061 10.03824092 17.3040153 ]\n",
      " [15.65965583 13.07839388 12.0458891  18.06883365 31.14722753]\n",
      " [48.71892925 40.68833652 37.47609943 56.21414914 96.90248566]]\n"
     ]
    }
   ],
   "source": [
    "# Print results\n",
    "print(\"chi2: \" + str(stat))\n",
    "print(\"p: \" + str(p))\n",
    "print(\"df: \" + str(dof))\n",
    "print(\"expected: \" + str(expected))"
   ]
  },
  {
   "cell_type": "markdown",
   "id": "33d36d3a",
   "metadata": {},
   "source": [
    "The *chi2_contingency* function returns the following values:\n",
    "\n",
    "1.\t **chi2**: The test statistic is the chi-squared statistic value (21.39). It’s calculated by comparing the observed frequencies with the expected frequencies, considering the squared differences between them, and dividing the result by the expected frequencies.\n",
    "\n",
    "2.\t **p**: The test’s p-value (0.1641). The p-value indicates the probability of observing a test statistic as extreme or more extreme than the one obtained—assuming the null hypothesis is true. (The variables are independent.)\n",
    "\n",
    "3.\t **df**: The degrees of freedom for the test. For the chi-squared test, the degrees of freedom are calculated using the following formula: df = (r-1)(c-1)—where r is the number of rows in the contingency table and c is the number of columns.\n",
    "\n",
    "4.\t **expected**: Expected frequencies are the values anticipated under the null hypothesis that assumes variable independence. The expected array shows the expected frequencies for each cell in the contingency table based on the row and column totals.  "
   ]
  },
  {
   "cell_type": "markdown",
   "id": "828bea01",
   "metadata": {},
   "source": [
    "The p-value (0.1641) is greater than the pre-set alpha level, 0.05. Therefore, we fail to reject the null hypothesis, suggesting that the variables are independent at the 0.05 significance level."
   ]
  }
 ],
 "metadata": {
  "kernelspec": {
   "display_name": "base",
   "language": "python",
   "name": "python3"
  },
  "language_info": {
   "codemirror_mode": {
    "name": "ipython",
    "version": 3
   },
   "file_extension": ".py",
   "mimetype": "text/x-python",
   "name": "python",
   "nbconvert_exporter": "python",
   "pygments_lexer": "ipython3",
   "version": "3.11.7"
  }
 },
 "nbformat": 4,
 "nbformat_minor": 5
}
