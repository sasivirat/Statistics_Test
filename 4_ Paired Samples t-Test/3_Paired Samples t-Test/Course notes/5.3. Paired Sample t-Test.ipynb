{
 "cells": [
  {
   "cell_type": "code",
   "execution_count": 1,
   "id": "5431ea44",
   "metadata": {},
   "outputs": [],
   "source": [
    "import pandas as pd\n",
    "import numpy as np\n",
    "import matplotlib.pyplot as plt\n",
    "import scipy.stats as stats\n",
    "from scipy.stats import shapiro\n",
    "import statsmodels.api as sm\n",
    "from scipy.stats import ttest_rel"
   ]
  },
  {
   "cell_type": "code",
   "execution_count": 2,
   "id": "102927fa",
   "metadata": {},
   "outputs": [],
   "source": [
    "# Read case data\n",
    "df = pd.read_excel(\"5. Case 4 - Paired samples t-test.xlsx\")"
   ]
  },
  {
   "cell_type": "code",
   "execution_count": 3,
   "id": "57da3754",
   "metadata": {
    "scrolled": true
   },
   "outputs": [
    {
     "data": {
      "text/html": [
       "<div>\n",
       "<style scoped>\n",
       "    .dataframe tbody tr th:only-of-type {\n",
       "        vertical-align: middle;\n",
       "    }\n",
       "\n",
       "    .dataframe tbody tr th {\n",
       "        vertical-align: top;\n",
       "    }\n",
       "\n",
       "    .dataframe thead th {\n",
       "        text-align: right;\n",
       "    }\n",
       "</style>\n",
       "<table border=\"1\" class=\"dataframe\">\n",
       "  <thead>\n",
       "    <tr style=\"text-align: right;\">\n",
       "      <th></th>\n",
       "      <th>Customer ID</th>\n",
       "      <th>AOV_Before</th>\n",
       "      <th>AOV_After</th>\n",
       "      <th>AOV_Diff</th>\n",
       "    </tr>\n",
       "  </thead>\n",
       "  <tbody>\n",
       "    <tr>\n",
       "      <th>0</th>\n",
       "      <td>43300313</td>\n",
       "      <td>114.17</td>\n",
       "      <td>126.08</td>\n",
       "      <td>11.91</td>\n",
       "    </tr>\n",
       "    <tr>\n",
       "      <th>1</th>\n",
       "      <td>8873290</td>\n",
       "      <td>132.21</td>\n",
       "      <td>90.30</td>\n",
       "      <td>-41.91</td>\n",
       "    </tr>\n",
       "    <tr>\n",
       "      <th>2</th>\n",
       "      <td>14352336</td>\n",
       "      <td>95.76</td>\n",
       "      <td>116.40</td>\n",
       "      <td>20.64</td>\n",
       "    </tr>\n",
       "    <tr>\n",
       "      <th>3</th>\n",
       "      <td>14864842</td>\n",
       "      <td>89.12</td>\n",
       "      <td>122.68</td>\n",
       "      <td>33.56</td>\n",
       "    </tr>\n",
       "    <tr>\n",
       "      <th>4</th>\n",
       "      <td>59734862</td>\n",
       "      <td>123.10</td>\n",
       "      <td>141.26</td>\n",
       "      <td>18.16</td>\n",
       "    </tr>\n",
       "  </tbody>\n",
       "</table>\n",
       "</div>"
      ],
      "text/plain": [
       "   Customer ID  AOV_Before  AOV_After  AOV_Diff\n",
       "0     43300313      114.17     126.08     11.91\n",
       "1      8873290      132.21      90.30    -41.91\n",
       "2     14352336       95.76     116.40     20.64\n",
       "3     14864842       89.12     122.68     33.56\n",
       "4     59734862      123.10     141.26     18.16"
      ]
     },
     "execution_count": 3,
     "metadata": {},
     "output_type": "execute_result"
    }
   ],
   "source": [
    "# Print data head\n",
    "df.head()"
   ]
  },
  {
   "cell_type": "markdown",
   "id": "e2ed575d",
   "metadata": {},
   "source": [
    "-\tAOV_Before: Average Order Value of the last three customer purchases before receiving the email\n",
    "-\tAOV_After: Average Order Value of the last three customer purchases after receiving the email\n",
    "-\tAOV_Diff = AOV_After - AOV_Before: Difference in Customer Average Order Value -> dependent variable"
   ]
  },
  {
   "cell_type": "code",
   "execution_count": 4,
   "id": "18681201",
   "metadata": {},
   "outputs": [
    {
     "data": {
      "text/html": [
       "<div>\n",
       "<style scoped>\n",
       "    .dataframe tbody tr th:only-of-type {\n",
       "        vertical-align: middle;\n",
       "    }\n",
       "\n",
       "    .dataframe tbody tr th {\n",
       "        vertical-align: top;\n",
       "    }\n",
       "\n",
       "    .dataframe thead th {\n",
       "        text-align: right;\n",
       "    }\n",
       "</style>\n",
       "<table border=\"1\" class=\"dataframe\">\n",
       "  <thead>\n",
       "    <tr style=\"text-align: right;\">\n",
       "      <th></th>\n",
       "      <th>Customer ID</th>\n",
       "      <th>AOV_Before</th>\n",
       "      <th>AOV_After</th>\n",
       "      <th>AOV_Diff</th>\n",
       "    </tr>\n",
       "  </thead>\n",
       "  <tbody>\n",
       "    <tr>\n",
       "      <th>count</th>\n",
       "      <td>2.240000e+02</td>\n",
       "      <td>224.000000</td>\n",
       "      <td>224.000000</td>\n",
       "      <td>224.000000</td>\n",
       "    </tr>\n",
       "    <tr>\n",
       "      <th>mean</th>\n",
       "      <td>4.935132e+07</td>\n",
       "      <td>105.450848</td>\n",
       "      <td>110.814375</td>\n",
       "      <td>5.363527</td>\n",
       "    </tr>\n",
       "    <tr>\n",
       "      <th>std</th>\n",
       "      <td>2.854895e+07</td>\n",
       "      <td>21.981770</td>\n",
       "      <td>20.314000</td>\n",
       "      <td>31.911967</td>\n",
       "    </tr>\n",
       "    <tr>\n",
       "      <th>min</th>\n",
       "      <td>1.250455e+06</td>\n",
       "      <td>28.980000</td>\n",
       "      <td>42.010000</td>\n",
       "      <td>-81.650000</td>\n",
       "    </tr>\n",
       "    <tr>\n",
       "      <th>25%</th>\n",
       "      <td>2.590802e+07</td>\n",
       "      <td>91.785000</td>\n",
       "      <td>97.100000</td>\n",
       "      <td>-14.590000</td>\n",
       "    </tr>\n",
       "    <tr>\n",
       "      <th>50%</th>\n",
       "      <td>4.840174e+07</td>\n",
       "      <td>103.990000</td>\n",
       "      <td>110.595000</td>\n",
       "      <td>6.170000</td>\n",
       "    </tr>\n",
       "    <tr>\n",
       "      <th>75%</th>\n",
       "      <td>7.345052e+07</td>\n",
       "      <td>121.772500</td>\n",
       "      <td>126.167500</td>\n",
       "      <td>28.275000</td>\n",
       "    </tr>\n",
       "    <tr>\n",
       "      <th>max</th>\n",
       "      <td>9.994677e+07</td>\n",
       "      <td>156.440000</td>\n",
       "      <td>165.930000</td>\n",
       "      <td>92.650000</td>\n",
       "    </tr>\n",
       "  </tbody>\n",
       "</table>\n",
       "</div>"
      ],
      "text/plain": [
       "        Customer ID  AOV_Before   AOV_After    AOV_Diff\n",
       "count  2.240000e+02  224.000000  224.000000  224.000000\n",
       "mean   4.935132e+07  105.450848  110.814375    5.363527\n",
       "std    2.854895e+07   21.981770   20.314000   31.911967\n",
       "min    1.250455e+06   28.980000   42.010000  -81.650000\n",
       "25%    2.590802e+07   91.785000   97.100000  -14.590000\n",
       "50%    4.840174e+07  103.990000  110.595000    6.170000\n",
       "75%    7.345052e+07  121.772500  126.167500   28.275000\n",
       "max    9.994677e+07  156.440000  165.930000   92.650000"
      ]
     },
     "execution_count": 4,
     "metadata": {},
     "output_type": "execute_result"
    }
   ],
   "source": [
    "# Descriptive statistics\n",
    "df.describe()"
   ]
  },
  {
   "cell_type": "markdown",
   "id": "b1deb6ea",
   "metadata": {},
   "source": [
    "The table above reveals that the average order value after receiving the email (110.81) is higher than before (105.45). But is this difference statistically significant? This is what the paired sample t-test can help establish."
   ]
  },
  {
   "cell_type": "code",
   "execution_count": 5,
   "id": "bf4d298e",
   "metadata": {},
   "outputs": [],
   "source": [
    "# Create arrays\n",
    "data_diff = df[\"AOV_Diff\"].values\n",
    "data_before = df[\"AOV_Before\"].values\n",
    "data_after = df[\"AOV_After\"].values"
   ]
  },
  {
   "cell_type": "markdown",
   "id": "eb5b2751",
   "metadata": {},
   "source": [
    "For the paired t-test, we require two variables: one to define the pairs of observations and the other as a measurement."
   ]
  },
  {
   "cell_type": "markdown",
   "id": "f86594e7",
   "metadata": {},
   "source": [
    "The null hypothesis is stated as follows:\n",
    "- H0: µ(AOV_Before) - µ(AOV_After) = 0 ('the mean difference in AOV between the new and old return policy is zero').\n",
    "\n",
    "We aim to demonstrate that the new return policy results in a higher AOV. Therefore, we adopt an upper-tailed alternative hypothesis (H1) indicating a positive difference between the two population means:\n",
    "- H1: µ(AOV_Before) - µ(AOV_After) < 0 ('the mean difference in AOV between the new and old return policy is less than zero').\n",
    "\n",
    "Furthermore, we set the significance level, alpha, to 0.05."
   ]
  },
  {
   "cell_type": "markdown",
   "id": "1eb73af4",
   "metadata": {},
   "source": [
    "The **scipy.stats.ttest_rel()** function in SciPy is utilized to execute the paired samples t-test—also known as the dependent or related t-test. This test assesses whether there's a significant difference between the means of two paired or dependent samples.\n",
    "\n",
    "The main parameters of the **ttest_rel function()** include:\n",
    "\n",
    "1.\t**a, b**: These arrays contain the sample data for comparison. Each should hold observations from one of the two related or paired samples, which must be of equal length and paired (e.g., pre- and post-treatment measurements on the same subjects or repeated measurements under different conditions).\n",
    "2.\t**alternative:** This parameter specifies the alternative hypothesis. Options include:\n",
    " -\t**'two-sided'** checks whether the means of the underlying distributions of the samples are unequal (default). This is used to determine if there's any difference between the samples, regardless of direction.\n",
    " -\t**'less'** checks if the mean of the first sample (a) is less than that of the second sample (b), implying a negative mean difference.\n",
    " -\t**'greater'** checks if the mean of the first sample (a) is greater than that of the second sample (b), implying a positive mean difference. For our hypothesis, 'less' should be selected since we assert that the post-policy mean is greater (therefore, the mean difference is negative).\n",
    "\n",
    "    \n",
    "The degrees of freedom (df) are calculated as the number of pairs minus one.\n",
    "\n",
    "In this scenario, df = 223."
   ]
  },
  {
   "cell_type": "code",
   "execution_count": 6,
   "id": "802e8e3d",
   "metadata": {},
   "outputs": [
    {
     "data": {
      "text/plain": [
       "TtestResult(statistic=2.5154801271455183, pvalue=0.006295854693981037, df=223)"
      ]
     },
     "execution_count": 6,
     "metadata": {},
     "output_type": "execute_result"
    }
   ],
   "source": [
    "# Run paired samples t-test\n",
    "ttest_rel(data_after, data_before, alternative= \"greater\")"
   ]
  },
  {
   "cell_type": "markdown",
   "id": "63dec82e",
   "metadata": {},
   "source": [
    "The p-value is smaller than the predefined alpha level of 0.05.\n",
    "\n",
    "Consequently, we reject the null hypothesis in favor of the alternative. We conclude that the average order value under the new return policy (110.81 USD) is significantly higher than the old (105.45 USD) at the 0.05 significance level."
   ]
  }
 ],
 "metadata": {
  "kernelspec": {
   "display_name": "base",
   "language": "python",
   "name": "python3"
  },
  "language_info": {
   "codemirror_mode": {
    "name": "ipython",
    "version": 3
   },
   "file_extension": ".py",
   "mimetype": "text/x-python",
   "name": "python",
   "nbconvert_exporter": "python",
   "pygments_lexer": "ipython3",
   "version": "3.11.7"
  }
 },
 "nbformat": 4,
 "nbformat_minor": 5
}
